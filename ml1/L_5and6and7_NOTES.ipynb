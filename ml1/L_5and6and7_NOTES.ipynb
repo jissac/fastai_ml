{
 "cells": [
  {
   "cell_type": "markdown",
   "metadata": {},
   "source": [
    "# RF from Scratch!\n",
    "- 2 Types of ML modeling techniques primarily used\n",
    "    - **Decision Tree Ensembles**\n",
    "        - RF, GBM, XGBoost - easily interpret, quick, but don't extrapolate at all\n",
    "    - **Neural nets**\n",
    "        - universal function approximator"
   ]
  },
  {
   "cell_type": "markdown",
   "metadata": {},
   "source": [
    "#### Imports"
   ]
  },
  {
   "cell_type": "code",
   "execution_count": 56,
   "metadata": {},
   "outputs": [
    {
     "name": "stdout",
     "output_type": "stream",
     "text": [
      "The autoreload extension is already loaded. To reload it, use:\n",
      "  %reload_ext autoreload\n"
     ]
    }
   ],
   "source": [
    "%load_ext autoreload\n",
    "%autoreload\n",
    "import sys"
   ]
  },
  {
   "cell_type": "code",
   "execution_count": 57,
   "metadata": {},
   "outputs": [],
   "source": [
    "%matplotlib inline\n",
    "sys.path.insert(0, \"/Users/JI/Documents/Github/fastai_ml/ml1/old/\")\n",
    "from fastai.imports import *\n",
    "from fastai.structured import *\n",
    "from sklearn.ensemble import RandomForestRegressor, RandomForestClassifier\n",
    "from IPython.display import display\n",
    "from sklearn import metrics"
   ]
  },
  {
   "cell_type": "markdown",
   "metadata": {},
   "source": [
    "#### Load data"
   ]
  },
  {
   "cell_type": "code",
   "execution_count": 58,
   "metadata": {},
   "outputs": [],
   "source": [
    "PATH = \"data/bulldozers/\"\n",
    "\n",
    "df_raw = pd.read_feather('tmp/bulldozers-raw')\n",
    "df_trn, y_trn, nas = proc_df(df_raw, 'SalePrice')"
   ]
  },
  {
   "cell_type": "code",
   "execution_count": 59,
   "metadata": {},
   "outputs": [],
   "source": [
    "def split_vals(a,n): return a[:n], a[n:]\n",
    "n_valid = 12000\n",
    "n_trn = len(df_trn)-n_valid\n",
    "X_train, X_valid = split_vals(df_trn, n_trn)\n",
    "y_train, y_valid = split_vals(y_trn, n_trn)\n",
    "raw_train, raw_valid = split_vals(df_raw, n_trn)"
   ]
  },
  {
   "cell_type": "code",
   "execution_count": 60,
   "metadata": {},
   "outputs": [],
   "source": [
    "# two cols to start simply\n",
    "x_sub = X_train[['YearMade', 'MachineHoursCurrentMeter']]"
   ]
  },
  {
   "cell_type": "markdown",
   "metadata": {},
   "source": [
    "#### Basic RF Data Structures\n",
    "- top down approach"
   ]
  },
  {
   "cell_type": "code",
   "execution_count": 61,
   "metadata": {},
   "outputs": [],
   "source": [
    "class TreeEnsemble():\n",
    "    def __init__(self,x,y,n_trees,sample_sz,min_leaf=5):\n",
    "        np.random.seed(42) # for testing purposes\n",
    "        self.x,self.y,self.sample_sz,self.min_leaf = x,y,sample_sz,min_leaf\n",
    "        self.trees = [self.create_tree() for i in range(n_trees)]\n",
    "        \n",
    "    def create_tree(self):\n",
    "        '''\n",
    "        Construct a Decision tree from a random sample of the data\n",
    "        '''\n",
    "        rndm_idxs = np.random.permutation(len(self.y))[:self.sample_sz]\n",
    "        return DecisionTree(self.x.iloc[rndm_idxs], self.y[rndm_idxs],\n",
    "                           idxs=np.array(range(self.sample_sz)), min_leaf=self.min_leaf)\n",
    "        \n",
    "    def predict(self,x):\n",
    "        '''\n",
    "        The tree ensemble predict function calls each tree's predict function\n",
    "        (not recursive)\n",
    "        '''\n",
    "        return np.mean([t.predict(x) for t in self.trees],axis=0)\n",
    "    "
   ]
  },
  {
   "cell_type": "code",
   "execution_count": 62,
   "metadata": {},
   "outputs": [],
   "source": [
    "class DecisionTree():\n",
    "    def __init__(self,x,y,idxs,min_leaf=5):\n",
    "        if idxs is None: idxs = np.arange(len(y)) # root of a decision tree contains all the rows\n",
    "        self.x,self.y,self.idxs,self.min_leaf = x,y,idxs,min_leaf\n",
    "        self.rows,self.cols = len(idxs), x.shape[1]\n",
    "        self.value = np.mean(y[idxs]) # every leaf has a value\n",
    "        self.score = float('inf')\n",
    "        self.find_varsplit() # which variable to split on\n",
    "        \n",
    "    def find_varsplit(self):\n",
    "        for i in range(self.cols): self.find_better_split(i)\n",
    "    \n",
    "    def find_better_split(self,var_idx): pass\n",
    "    \n",
    "    @property\n",
    "    def split_name(self): return self.x.columns[self.var_idx]\n",
    "    \n",
    "    @property\n",
    "    def split_col(self): return self.x.values[self.idxs,self.var_idx]\n",
    "\n",
    "    @property\n",
    "    def is_leaf(self): return self.score == float('inf')\n",
    "    \n",
    "    def __repr__(self):\n",
    "        s = f'n: {self.rows}; val:{self.value}'\n",
    "        if not self.is_leaf:\n",
    "            s += f'; score:{self.score}; split:{self.split}; var:{self.split_name}'\n",
    "        return s       "
   ]
  },
  {
   "cell_type": "code",
   "execution_count": 63,
   "metadata": {},
   "outputs": [],
   "source": [
    "# instantiate a TreeEnsemble\n",
    "m = TreeEnsemble(X_train, y_train, n_trees=10, sample_sz=1000, min_leaf=3)"
   ]
  },
  {
   "cell_type": "code",
   "execution_count": 64,
   "metadata": {},
   "outputs": [
    {
     "data": {
      "text/plain": [
       "n: 1000; val:10.079014121552744"
      ]
     },
     "execution_count": 64,
     "metadata": {},
     "output_type": "execute_result"
    }
   ],
   "source": [
    "m.trees[0]"
   ]
  },
  {
   "cell_type": "code",
   "execution_count": 65,
   "metadata": {},
   "outputs": [
    {
     "data": {
      "text/plain": [
       "array([  0,   1,   2,   3,   4,   5,   6,   7,   8,   9,  10,  11,  12,  13,  14,  15,  16,  17,  18,  19,\n",
       "        20,  21,  22,  23,  24,  25,  26,  27,  28,  29,  30,  31,  32,  33,  34,  35,  36,  37,  38,  39,\n",
       "        40,  41,  42,  43,  44,  45,  46,  47,  48,  49,  50,  51,  52,  53,  54,  55,  56,  57,  58,  59,\n",
       "        60,  61,  62,  63,  64,  65,  66,  67,  68,  69,  70,  71,  72,  73,  74,  75,  76,  77,  78,  79,\n",
       "        80,  81,  82,  83,  84,  85,  86,  87,  88,  89,  90,  91,  92,  93,  94,  95,  96,  97,  98,  99,\n",
       "       100, 101, 102, 103, 104, 105, 106, 107, 108, 109, 110, 111, 112, 113, 114, 115, 116, 117, 118, 119,\n",
       "       120, 121, 122, 123, 124, 125, 126, 127, 128, 129, 130, 131, 132, 133, 134, 135, 136, 137, 138, 139,\n",
       "       140, 141, 142, 143, 144, 145, 146, 147, 148, 149, 150, 151, 152, 153, 154, 155, 156, 157, 158, 159,\n",
       "       160, 161, 162, 163, 164, 165, 166, 167, 168, 169, 170, 171, 172, 173, 174, 175, 176, 177, 178, 179,\n",
       "       180, 181, 182, 183, 184, 185, 186, 187, 188, 189, 190, 191, 192, 193, 194, 195, 196, 197, 198, 199,\n",
       "       200, 201, 202, 203, 204, 205, 206, 207, 208, 209, 210, 211, 212, 213, 214, 215, 216, 217, 218, 219,\n",
       "       220, 221, 222, 223, 224, 225, 226, 227, 228, 229, 230, 231, 232, 233, 234, 235, 236, 237, 238, 239,\n",
       "       240, 241, 242, 243, 244, 245, 246, 247, 248, 249, 250, 251, 252, 253, 254, 255, 256, 257, 258, 259,\n",
       "       260, 261, 262, 263, 264, 265, 266, 267, 268, 269, 270, 271, 272, 273, 274, 275, 276, 277, 278, 279,\n",
       "       280, 281, 282, 283, 284, 285, 286, 287, 288, 289, 290, 291, 292, 293, 294, 295, 296, 297, 298, 299,\n",
       "       300, 301, 302, 303, 304, 305, 306, 307, 308, 309, 310, 311, 312, 313, 314, 315, 316, 317, 318, 319,\n",
       "       320, 321, 322, 323, 324, 325, 326, 327, 328, 329, 330, 331, 332, 333, 334, 335, 336, 337, 338, 339,\n",
       "       340, 341, 342, 343, 344, 345, 346, 347, 348, 349, 350, 351, 352, 353, 354, 355, 356, 357, 358, 359,\n",
       "       360, 361, 362, 363, 364, 365, 366, 367, 368, 369, 370, 371, 372, 373, 374, 375, 376, 377, 378, 379,\n",
       "       380, 381, 382, 383, 384, 385, 386, 387, 388, 389, 390, 391, 392, 393, 394, 395, 396, 397, 398, 399,\n",
       "       400, 401, 402, 403, 404, 405, 406, 407, 408, 409, 410, 411, 412, 413, 414, 415, 416, 417, 418, 419,\n",
       "       420, 421, 422, 423, 424, 425, 426, 427, 428, 429, 430, 431, 432, 433, 434, 435, 436, 437, 438, 439,\n",
       "       440, 441, 442, 443, 444, 445, 446, 447, 448, 449, 450, 451, 452, 453, 454, 455, 456, 457, 458, 459,\n",
       "       460, 461, 462, 463, 464, 465, 466, 467, 468, 469, 470, 471, 472, 473, 474, 475, 476, 477, 478, 479,\n",
       "       480, 481, 482, 483, 484, 485, 486, 487, 488, 489, 490, 491, 492, 493, 494, 495, 496, 497, 498, 499,\n",
       "       500, 501, 502, 503, 504, 505, 506, 507, 508, 509, 510, 511, 512, 513, 514, 515, 516, 517, 518, 519,\n",
       "       520, 521, 522, 523, 524, 525, 526, 527, 528, 529, 530, 531, 532, 533, 534, 535, 536, 537, 538, 539,\n",
       "       540, 541, 542, 543, 544, 545, 546, 547, 548, 549, 550, 551, 552, 553, 554, 555, 556, 557, 558, 559,\n",
       "       560, 561, 562, 563, 564, 565, 566, 567, 568, 569, 570, 571, 572, 573, 574, 575, 576, 577, 578, 579,\n",
       "       580, 581, 582, 583, 584, 585, 586, 587, 588, 589, 590, 591, 592, 593, 594, 595, 596, 597, 598, 599,\n",
       "       600, 601, 602, 603, 604, 605, 606, 607, 608, 609, 610, 611, 612, 613, 614, 615, 616, 617, 618, 619,\n",
       "       620, 621, 622, 623, 624, 625, 626, 627, 628, 629, 630, 631, 632, 633, 634, 635, 636, 637, 638, 639,\n",
       "       640, 641, 642, 643, 644, 645, 646, 647, 648, 649, 650, 651, 652, 653, 654, 655, 656, 657, 658, 659,\n",
       "       660, 661, 662, 663, 664, 665, 666, 667, 668, 669, 670, 671, 672, 673, 674, 675, 676, 677, 678, 679,\n",
       "       680, 681, 682, 683, 684, 685, 686, 687, 688, 689, 690, 691, 692, 693, 694, 695, 696, 697, 698, 699,\n",
       "       700, 701, 702, 703, 704, 705, 706, 707, 708, 709, 710, 711, 712, 713, 714, 715, 716, 717, 718, 719,\n",
       "       720, 721, 722, 723, 724, 725, 726, 727, 728, 729, 730, 731, 732, 733, 734, 735, 736, 737, 738, 739,\n",
       "       740, 741, 742, 743, 744, 745, 746, 747, 748, 749, 750, 751, 752, 753, 754, 755, 756, 757, 758, 759,\n",
       "       760, 761, 762, 763, 764, 765, 766, 767, 768, 769, 770, 771, 772, 773, 774, 775, 776, 777, 778, 779,\n",
       "       780, 781, 782, 783, 784, 785, 786, 787, 788, 789, 790, 791, 792, 793, 794, 795, 796, 797, 798, 799,\n",
       "       800, 801, 802, 803, 804, 805, 806, 807, 808, 809, 810, 811, 812, 813, 814, 815, 816, 817, 818, 819,\n",
       "       820, 821, 822, 823, 824, 825, 826, 827, 828, 829, 830, 831, 832, 833, 834, 835, 836, 837, 838, 839,\n",
       "       840, 841, 842, 843, 844, 845, 846, 847, 848, 849, 850, 851, 852, 853, 854, 855, 856, 857, 858, 859,\n",
       "       860, 861, 862, 863, 864, 865, 866, 867, 868, 869, 870, 871, 872, 873, 874, 875, 876, 877, 878, 879,\n",
       "       880, 881, 882, 883, 884, 885, 886, 887, 888, 889, 890, 891, 892, 893, 894, 895, 896, 897, 898, 899,\n",
       "       900, 901, 902, 903, 904, 905, 906, 907, 908, 909, 910, 911, 912, 913, 914, 915, 916, 917, 918, 919,\n",
       "       920, 921, 922, 923, 924, 925, 926, 927, 928, 929, 930, 931, 932, 933, 934, 935, 936, 937, 938, 939,\n",
       "       940, 941, 942, 943, 944, 945, 946, 947, 948, 949, 950, 951, 952, 953, 954, 955, 956, 957, 958, 959,\n",
       "       960, 961, 962, 963, 964, 965, 966, 967, 968, 969, 970, 971, 972, 973, 974, 975, 976, 977, 978, 979,\n",
       "       980, 981, 982, 983, 984, 985, 986, 987, 988, 989, 990, 991, 992, 993, 994, 995, 996, 997, 998, 999])"
      ]
     },
     "execution_count": 65,
     "metadata": {},
     "output_type": "execute_result"
    }
   ],
   "source": [
    "m.trees[0].idxs"
   ]
  },
  {
   "cell_type": "markdown",
   "metadata": {},
   "source": [
    "## Single Branch"
   ]
  },
  {
   "cell_type": "code",
   "execution_count": 66,
   "metadata": {},
   "outputs": [
    {
     "data": {
      "text/plain": [
       "Index(['YearMade', 'MachineHoursCurrentMeter'], dtype='object')"
      ]
     },
     "execution_count": 66,
     "metadata": {},
     "output_type": "execute_result"
    }
   ],
   "source": [
    "ens = TreeEnsemble(x_sub, y_train, 1, 1000)\n",
    "tree = ens.trees[0]\n",
    "x_samp,y_samp = tree.x, tree.y\n",
    "x_samp.columns\n"
   ]
  },
  {
   "cell_type": "code",
   "execution_count": 67,
   "metadata": {},
   "outputs": [
    {
     "data": {
      "text/plain": [
       "n: 1000; val:10.079014121552744"
      ]
     },
     "execution_count": 67,
     "metadata": {},
     "output_type": "execute_result"
    }
   ],
   "source": [
    "tree"
   ]
  },
  {
   "cell_type": "markdown",
   "metadata": {},
   "source": [
    "**The Scikit learn model to compare our model to**"
   ]
  },
  {
   "cell_type": "code",
   "execution_count": 68,
   "metadata": {},
   "outputs": [
    {
     "data": {
      "image/svg+xml": [
       "<?xml version=\"1.0\" encoding=\"UTF-8\" standalone=\"no\"?>\n",
       "<!DOCTYPE svg PUBLIC \"-//W3C//DTD SVG 1.1//EN\"\n",
       " \"http://www.w3.org/Graphics/SVG/1.1/DTD/svg11.dtd\">\n",
       "<!-- Generated by graphviz version 2.42.3 (20191010.1750)\n",
       " -->\n",
       "<!-- Title: Tree Pages: 1 -->\n",
       "<svg width=\"268pt\" height=\"163pt\"\n",
       " viewBox=\"0.00 0.00 267.86 163.40\" xmlns=\"http://www.w3.org/2000/svg\" xmlns:xlink=\"http://www.w3.org/1999/xlink\">\n",
       "<g id=\"graph0\" class=\"graph\" transform=\"scale(1 1) rotate(0) translate(4 159.4)\">\n",
       "<title>Tree</title>\n",
       "<polygon fill=\"white\" stroke=\"transparent\" points=\"-4,4 -4,-159.4 263.86,-159.4 263.86,4 -4,4\"/>\n",
       "<!-- 0 -->\n",
       "<g id=\"node1\" class=\"node\">\n",
       "<title>0</title>\n",
       "<polygon fill=\"#e99558\" stroke=\"black\" points=\"127.23,-109.92 0.5,-109.92 0.5,-45.92 127.23,-45.92 127.23,-109.92\"/>\n",
       "<text text-anchor=\"start\" x=\"8.43\" y=\"-94.72\" font-family=\"Times,serif\" font-size=\"14.00\">YearMade ≤ 1974.5</text>\n",
       "<text text-anchor=\"start\" x=\"32.89\" y=\"-80.72\" font-family=\"Times,serif\" font-size=\"14.00\">mse = 0.47</text>\n",
       "<text text-anchor=\"start\" x=\"19.86\" y=\"-66.72\" font-family=\"Times,serif\" font-size=\"14.00\">samples = 1000</text>\n",
       "<text text-anchor=\"start\" x=\"25.51\" y=\"-52.72\" font-family=\"Times,serif\" font-size=\"14.00\">value = 10.08</text>\n",
       "</g>\n",
       "<!-- 1 -->\n",
       "<g id=\"node2\" class=\"node\">\n",
       "<title>1</title>\n",
       "<polygon fill=\"#ffffff\" stroke=\"black\" points=\"260.36,-147.92 163.37,-147.92 163.37,-97.92 260.36,-97.92 260.36,-147.92\"/>\n",
       "<text text-anchor=\"start\" x=\"180.89\" y=\"-132.72\" font-family=\"Times,serif\" font-size=\"14.00\">mse = 0.26</text>\n",
       "<text text-anchor=\"start\" x=\"171.36\" y=\"-118.72\" font-family=\"Times,serif\" font-size=\"14.00\">samples = 159</text>\n",
       "<text text-anchor=\"start\" x=\"177.01\" y=\"-104.72\" font-family=\"Times,serif\" font-size=\"14.00\">value = 9.66</text>\n",
       "</g>\n",
       "<!-- 0&#45;&gt;1 -->\n",
       "<g id=\"edge1\" class=\"edge\">\n",
       "<title>0&#45;&gt;1</title>\n",
       "<path fill=\"none\" stroke=\"black\" d=\"M127.63,-97.27C136.18,-99.91 144.93,-102.6 153.38,-105.21\"/>\n",
       "<polygon fill=\"black\" stroke=\"black\" points=\"152.56,-108.62 163.15,-108.22 154.62,-101.93 152.56,-108.62\"/>\n",
       "<text text-anchor=\"middle\" x=\"141.05\" y=\"-115.7\" font-family=\"Times,serif\" font-size=\"14.00\">True</text>\n",
       "</g>\n",
       "<!-- 2 -->\n",
       "<g id=\"node3\" class=\"node\">\n",
       "<title>2</title>\n",
       "<polygon fill=\"#e58139\" stroke=\"black\" points=\"260.36,-57.92 163.37,-57.92 163.37,-7.92 260.36,-7.92 260.36,-57.92\"/>\n",
       "<text text-anchor=\"start\" x=\"180.89\" y=\"-42.72\" font-family=\"Times,serif\" font-size=\"14.00\">mse = 0.47</text>\n",
       "<text text-anchor=\"start\" x=\"171.36\" y=\"-28.72\" font-family=\"Times,serif\" font-size=\"14.00\">samples = 841</text>\n",
       "<text text-anchor=\"start\" x=\"173.51\" y=\"-14.72\" font-family=\"Times,serif\" font-size=\"14.00\">value = 10.16</text>\n",
       "</g>\n",
       "<!-- 0&#45;&gt;2 -->\n",
       "<g id=\"edge2\" class=\"edge\">\n",
       "<title>0&#45;&gt;2</title>\n",
       "<path fill=\"none\" stroke=\"black\" d=\"M127.63,-58.58C136.18,-55.94 144.93,-53.25 153.38,-50.64\"/>\n",
       "<polygon fill=\"black\" stroke=\"black\" points=\"154.62,-53.92 163.15,-47.63 152.56,-47.23 154.62,-53.92\"/>\n",
       "<text text-anchor=\"middle\" x=\"141.05\" y=\"-31.74\" font-family=\"Times,serif\" font-size=\"14.00\">False</text>\n",
       "</g>\n",
       "</g>\n",
       "</svg>\n"
      ],
      "text/plain": [
       "<graphviz.files.Source at 0x14595ef60>"
      ]
     },
     "metadata": {},
     "output_type": "display_data"
    }
   ],
   "source": [
    "m = RandomForestRegressor(n_estimators=1, max_depth=1, bootstrap=False)\n",
    "m.fit(x_samp, y_samp)\n",
    "draw_tree(m.estimators_[0], x_samp, precision=2)"
   ]
  },
  {
   "cell_type": "code",
   "execution_count": 69,
   "metadata": {},
   "outputs": [],
   "source": [
    "def find_better_split(self, var_idx):\n",
    "    '''\n",
    "    Find which row of the selected column to split the tree on.\n",
    "    For each row of the selected column, calculate the score (std) \n",
    "    for all the corresponding value of the dependent variable on both\n",
    "    the LHS (<=) or RHS (>) and take the avg of both. Pick the row \n",
    "    that has the lowest score\n",
    "    '''\n",
    "    x,y = self.x.values[self.idxs,var_idx], self.y[self.idxs]\n",
    "\n",
    "    for i in range(self.rows):\n",
    "        lhs = x<=x[i]\n",
    "        rhs = x>x[i]\n",
    "        if rhs.sum()<self.min_leaf or lhs.sum()<self.min_leaf: continue\n",
    "        lhs_std = y[lhs].std()\n",
    "        rhs_std = y[rhs].std()\n",
    "        curr_score = lhs_std*lhs.sum() + rhs_std*rhs.sum()\n",
    "        if curr_score<self.score: \n",
    "            self.var_idx,self.score,self.split = var_idx,curr_score,x[i]"
   ]
  },
  {
   "cell_type": "markdown",
   "metadata": {},
   "source": [
    "### Speeding things up\n",
    "- computational complexity of find_better_split() is n^2"
   ]
  },
  {
   "cell_type": "code",
   "execution_count": 70,
   "metadata": {},
   "outputs": [],
   "source": [
    "tree = TreeEnsemble(x_sub,y_train,1,1000).trees[0]"
   ]
  },
  {
   "cell_type": "code",
   "execution_count": 71,
   "metadata": {},
   "outputs": [
    {
     "name": "stdout",
     "output_type": "stream",
     "text": [
      "88.7 ms ± 7.06 ms per loop (mean ± std. dev. of 7 runs, 10 loops each)\n"
     ]
    },
    {
     "data": {
      "text/plain": [
       "n: 1000; val:10.079014121552744; score:681.0184057251435; split:3744.0; var:MachineHoursCurrentMeter"
      ]
     },
     "execution_count": 71,
     "metadata": {},
     "output_type": "execute_result"
    }
   ],
   "source": [
    "%timeit find_better_split(tree,1)\n",
    "tree"
   ]
  },
  {
   "cell_type": "code",
   "execution_count": 72,
   "metadata": {},
   "outputs": [],
   "source": [
    "def std_agg(cnt, s1, s2): return math.sqrt((s2/cnt) - (s1/cnt)**2)\n",
    "\n",
    "def find_better_split(self, var_idx):\n",
    "    x,y = self.x.values[self.idxs,var_idx], self.y[self.idxs]\n",
    "    \n",
    "    sort_idx = np.argsort(x)\n",
    "    sort_y,sort_x = y[sort_idx], x[sort_idx]\n",
    "    rhs_cnt,rhs_sum,rhs_sum2 = self.rows, sort_y.sum(), (sort_y**2).sum()\n",
    "    lhs_cnt,lhs_sum,lhs_sum2 = 0,0.,0.\n",
    "\n",
    "    for i in range(0,self.rows-self.min_leaf):\n",
    "        xi,yi = sort_x[i],sort_y[i]\n",
    "        lhs_cnt += 1; rhs_cnt -= 1\n",
    "        lhs_sum += yi; rhs_sum -= yi\n",
    "        lhs_sum2 += yi**2; rhs_sum2 -= yi**2\n",
    "        if i<self.min_leaf-1 or xi==sort_x[i+1]:\n",
    "            continue\n",
    "            \n",
    "        lhs_std = std_agg(lhs_cnt, lhs_sum, lhs_sum2)\n",
    "        rhs_std = std_agg(rhs_cnt, rhs_sum, rhs_sum2)\n",
    "        curr_score = lhs_std*lhs_cnt + rhs_std*rhs_cnt\n",
    "        if curr_score<self.score: \n",
    "            self.var_idx,self.score,self.split = var_idx,curr_score,xi"
   ]
  },
  {
   "cell_type": "code",
   "execution_count": 73,
   "metadata": {
    "jupyter": {
     "source_hidden": true
    }
   },
   "outputs": [
    {
     "name": "stdout",
     "output_type": "stream",
     "text": [
      "CPU times: user 2.86 ms, sys: 402 µs, total: 3.26 ms\n",
      "Wall time: 2.89 ms\n"
     ]
    },
    {
     "data": {
      "text/plain": [
       "n: 1000; val:10.079014121552744; score:681.0184057251353; split:3744.0; var:MachineHoursCurrentMeter"
      ]
     },
     "execution_count": 73,
     "metadata": {},
     "output_type": "execute_result"
    }
   ],
   "source": [
    "%time find_better_split(tree,1)\n",
    "tree"
   ]
  },
  {
   "cell_type": "markdown",
   "metadata": {},
   "source": [
    "**can add methods dynamically**"
   ]
  },
  {
   "cell_type": "code",
   "execution_count": 74,
   "metadata": {},
   "outputs": [],
   "source": [
    "# adding the method defined above to the DecisionTree method\n",
    "DecisionTree.find_better_split = find_better_split"
   ]
  },
  {
   "cell_type": "code",
   "execution_count": 75,
   "metadata": {},
   "outputs": [
    {
     "data": {
      "text/plain": [
       "n: 1000; val:10.079014121552744; score:658.5510186055565; split:1974.0; var:YearMade"
      ]
     },
     "execution_count": 75,
     "metadata": {},
     "output_type": "execute_result"
    }
   ],
   "source": [
    "tree = TreeEnsemble(x_sub,y_train,1,1000).trees[0]; tree"
   ]
  },
  {
   "cell_type": "markdown",
   "metadata": {},
   "source": [
    "### Full Single Tree"
   ]
  },
  {
   "cell_type": "code",
   "execution_count": 76,
   "metadata": {},
   "outputs": [
    {
     "data": {
      "image/svg+xml": [
       "<?xml version=\"1.0\" encoding=\"UTF-8\" standalone=\"no\"?>\n",
       "<!DOCTYPE svg PUBLIC \"-//W3C//DTD SVG 1.1//EN\"\n",
       " \"http://www.w3.org/Graphics/SVG/1.1/DTD/svg11.dtd\">\n",
       "<!-- Generated by graphviz version 2.42.3 (20191010.1750)\n",
       " -->\n",
       "<!-- Title: Tree Pages: 1 -->\n",
       "<svg width=\"532pt\" height=\"322pt\"\n",
       " viewBox=\"0.00 0.00 532.44 322.40\" xmlns=\"http://www.w3.org/2000/svg\" xmlns:xlink=\"http://www.w3.org/1999/xlink\">\n",
       "<g id=\"graph0\" class=\"graph\" transform=\"scale(1 1) rotate(0) translate(4 318.4)\">\n",
       "<title>Tree</title>\n",
       "<polygon fill=\"white\" stroke=\"transparent\" points=\"-4,4 -4,-318.4 528.44,-318.4 528.44,4 -4,4\"/>\n",
       "<!-- 0 -->\n",
       "<g id=\"node1\" class=\"node\">\n",
       "<title>0</title>\n",
       "<polygon fill=\"#f4c8a8\" stroke=\"black\" points=\"126.81,-190.58 0.08,-190.58 0.08,-126.58 126.81,-126.58 126.81,-190.58\"/>\n",
       "<text text-anchor=\"start\" x=\"8.01\" y=\"-175.38\" font-family=\"Times,serif\" font-size=\"14.00\">YearMade ≤ 1974.5</text>\n",
       "<text text-anchor=\"start\" x=\"32.47\" y=\"-161.38\" font-family=\"Times,serif\" font-size=\"14.00\">mse = 0.47</text>\n",
       "<text text-anchor=\"start\" x=\"19.44\" y=\"-147.38\" font-family=\"Times,serif\" font-size=\"14.00\">samples = 1000</text>\n",
       "<text text-anchor=\"start\" x=\"25.08\" y=\"-133.38\" font-family=\"Times,serif\" font-size=\"14.00\">value = 10.08</text>\n",
       "</g>\n",
       "<!-- 1 -->\n",
       "<g id=\"node2\" class=\"node\">\n",
       "<title>1</title>\n",
       "<polygon fill=\"#fefaf7\" stroke=\"black\" points=\"391.52,-241.58 163.36,-241.58 163.36,-177.58 391.52,-177.58 391.52,-241.58\"/>\n",
       "<text text-anchor=\"start\" x=\"171.15\" y=\"-226.38\" font-family=\"Times,serif\" font-size=\"14.00\">MachineHoursCurrentMeter ≤ 2956.5</text>\n",
       "<text text-anchor=\"start\" x=\"246.47\" y=\"-212.38\" font-family=\"Times,serif\" font-size=\"14.00\">mse = 0.26</text>\n",
       "<text text-anchor=\"start\" x=\"236.94\" y=\"-198.38\" font-family=\"Times,serif\" font-size=\"14.00\">samples = 159</text>\n",
       "<text text-anchor=\"start\" x=\"242.58\" y=\"-184.38\" font-family=\"Times,serif\" font-size=\"14.00\">value = 9.66</text>\n",
       "</g>\n",
       "<!-- 0&#45;&gt;1 -->\n",
       "<g id=\"edge1\" class=\"edge\">\n",
       "<title>0&#45;&gt;1</title>\n",
       "<path fill=\"none\" stroke=\"black\" d=\"M126.9,-173.61C135.33,-175.64 144.21,-177.77 153.26,-179.95\"/>\n",
       "<polygon fill=\"black\" stroke=\"black\" points=\"152.59,-183.39 163.13,-182.32 154.23,-176.58 152.59,-183.39\"/>\n",
       "<text text-anchor=\"middle\" x=\"141.81\" y=\"-191.18\" font-family=\"Times,serif\" font-size=\"14.00\">True</text>\n",
       "</g>\n",
       "<!-- 4 -->\n",
       "<g id=\"node5\" class=\"node\">\n",
       "<title>4</title>\n",
       "<polygon fill=\"#f2be99\" stroke=\"black\" points=\"340.81,-140.58 214.08,-140.58 214.08,-76.58 340.81,-76.58 340.81,-140.58\"/>\n",
       "<text text-anchor=\"start\" x=\"222.01\" y=\"-125.38\" font-family=\"Times,serif\" font-size=\"14.00\">YearMade ≤ 2005.5</text>\n",
       "<text text-anchor=\"start\" x=\"246.47\" y=\"-111.38\" font-family=\"Times,serif\" font-size=\"14.00\">mse = 0.47</text>\n",
       "<text text-anchor=\"start\" x=\"236.94\" y=\"-97.38\" font-family=\"Times,serif\" font-size=\"14.00\">samples = 841</text>\n",
       "<text text-anchor=\"start\" x=\"239.08\" y=\"-83.38\" font-family=\"Times,serif\" font-size=\"14.00\">value = 10.16</text>\n",
       "</g>\n",
       "<!-- 0&#45;&gt;4 -->\n",
       "<g id=\"edge4\" class=\"edge\">\n",
       "<title>0&#45;&gt;4</title>\n",
       "<path fill=\"none\" stroke=\"black\" d=\"M126.9,-143.85C151.16,-138.13 179.11,-131.54 204.22,-125.62\"/>\n",
       "<polygon fill=\"black\" stroke=\"black\" points=\"205.13,-129 214.06,-123.3 203.53,-122.18 205.13,-129\"/>\n",
       "<text text-anchor=\"middle\" x=\"192.8\" y=\"-105.95\" font-family=\"Times,serif\" font-size=\"14.00\">False</text>\n",
       "</g>\n",
       "<!-- 2 -->\n",
       "<g id=\"node3\" class=\"node\">\n",
       "<title>2</title>\n",
       "<polygon fill=\"#ffffff\" stroke=\"black\" points=\"524.94,-308.58 427.94,-308.58 427.94,-258.58 524.94,-258.58 524.94,-308.58\"/>\n",
       "<text text-anchor=\"start\" x=\"445.47\" y=\"-293.38\" font-family=\"Times,serif\" font-size=\"14.00\">mse = 0.23</text>\n",
       "<text text-anchor=\"start\" x=\"435.94\" y=\"-279.38\" font-family=\"Times,serif\" font-size=\"14.00\">samples = 150</text>\n",
       "<text text-anchor=\"start\" x=\"441.58\" y=\"-265.38\" font-family=\"Times,serif\" font-size=\"14.00\">value = 9.62</text>\n",
       "</g>\n",
       "<!-- 1&#45;&gt;2 -->\n",
       "<g id=\"edge2\" class=\"edge\">\n",
       "<title>1&#45;&gt;2</title>\n",
       "<path fill=\"none\" stroke=\"black\" d=\"M363.7,-241.61C382.04,-248.5 401.01,-255.62 417.99,-262\"/>\n",
       "<polygon fill=\"black\" stroke=\"black\" points=\"417.15,-265.43 427.74,-265.67 419.61,-258.87 417.15,-265.43\"/>\n",
       "</g>\n",
       "<!-- 3 -->\n",
       "<g id=\"node4\" class=\"node\">\n",
       "<title>3</title>\n",
       "<polygon fill=\"#eda774\" stroke=\"black\" points=\"522.65,-225.58 430.23,-225.58 430.23,-175.58 522.65,-175.58 522.65,-225.58\"/>\n",
       "<text text-anchor=\"start\" x=\"445.47\" y=\"-210.38\" font-family=\"Times,serif\" font-size=\"14.00\">mse = 0.23</text>\n",
       "<text text-anchor=\"start\" x=\"442.94\" y=\"-196.38\" font-family=\"Times,serif\" font-size=\"14.00\">samples = 9</text>\n",
       "<text text-anchor=\"start\" x=\"438.08\" y=\"-182.38\" font-family=\"Times,serif\" font-size=\"14.00\">value = 10.35</text>\n",
       "</g>\n",
       "<!-- 1&#45;&gt;3 -->\n",
       "<g id=\"edge3\" class=\"edge\">\n",
       "<title>1&#45;&gt;3</title>\n",
       "<path fill=\"none\" stroke=\"black\" d=\"M391.61,-204.41C401.35,-203.97 410.89,-203.53 419.84,-203.12\"/>\n",
       "<polygon fill=\"black\" stroke=\"black\" points=\"420.23,-206.61 430.06,-202.66 419.91,-199.62 420.23,-206.61\"/>\n",
       "</g>\n",
       "<!-- 5 -->\n",
       "<g id=\"node6\" class=\"node\">\n",
       "<title>5</title>\n",
       "<polygon fill=\"#f2c09d\" stroke=\"black\" points=\"524.94,-138.58 427.94,-138.58 427.94,-88.58 524.94,-88.58 524.94,-138.58\"/>\n",
       "<text text-anchor=\"start\" x=\"445.47\" y=\"-123.38\" font-family=\"Times,serif\" font-size=\"14.00\">mse = 0.46</text>\n",
       "<text text-anchor=\"start\" x=\"435.94\" y=\"-109.38\" font-family=\"Times,serif\" font-size=\"14.00\">samples = 813</text>\n",
       "<text text-anchor=\"start\" x=\"438.08\" y=\"-95.38\" font-family=\"Times,serif\" font-size=\"14.00\">value = 10.14</text>\n",
       "</g>\n",
       "<!-- 4&#45;&gt;5 -->\n",
       "<g id=\"edge5\" class=\"edge\">\n",
       "<title>4&#45;&gt;5</title>\n",
       "<path fill=\"none\" stroke=\"black\" d=\"M341.04,-110.17C365.59,-110.8 393.58,-111.51 417.64,-112.12\"/>\n",
       "<polygon fill=\"black\" stroke=\"black\" points=\"417.61,-115.62 427.69,-112.37 417.79,-108.62 417.61,-115.62\"/>\n",
       "</g>\n",
       "<!-- 6 -->\n",
       "<g id=\"node7\" class=\"node\">\n",
       "<title>6</title>\n",
       "<polygon fill=\"#e58139\" stroke=\"black\" points=\"522.65,-55.58 430.23,-55.58 430.23,-5.58 522.65,-5.58 522.65,-55.58\"/>\n",
       "<text text-anchor=\"start\" x=\"445.47\" y=\"-40.38\" font-family=\"Times,serif\" font-size=\"14.00\">mse = 0.38</text>\n",
       "<text text-anchor=\"start\" x=\"439.44\" y=\"-26.38\" font-family=\"Times,serif\" font-size=\"14.00\">samples = 28</text>\n",
       "<text text-anchor=\"start\" x=\"438.08\" y=\"-12.38\" font-family=\"Times,serif\" font-size=\"14.00\">value = 10.67</text>\n",
       "</g>\n",
       "<!-- 4&#45;&gt;6 -->\n",
       "<g id=\"edge6\" class=\"edge\">\n",
       "<title>4&#45;&gt;6</title>\n",
       "<path fill=\"none\" stroke=\"black\" d=\"M341.04,-83.8C366.61,-73.68 395.9,-62.08 420.61,-52.29\"/>\n",
       "<polygon fill=\"black\" stroke=\"black\" points=\"422.17,-55.44 430.18,-48.5 419.6,-48.93 422.17,-55.44\"/>\n",
       "</g>\n",
       "</g>\n",
       "</svg>\n"
      ],
      "text/plain": [
       "<graphviz.files.Source at 0x14595e630>"
      ]
     },
     "metadata": {},
     "output_type": "display_data"
    }
   ],
   "source": [
    "m = RandomForestRegressor(n_estimators=1, max_depth=2, bootstrap=False)\n",
    "m.fit(x_samp, y_samp)\n",
    "draw_tree(m.estimators_[0], x_samp, precision=2)"
   ]
  },
  {
   "cell_type": "code",
   "execution_count": 77,
   "metadata": {},
   "outputs": [],
   "source": [
    "def find_varsplit(self):\n",
    "    '''\n",
    "    Create more decision trees\n",
    "    '''\n",
    "    for i in range(self.cols): self.find_better_split(i)\n",
    "    if self.is_leaf: return\n",
    "    x = self.split_col\n",
    "    lhs = np.nonzero(x<=self.split)[0]\n",
    "    rhs = np.nonzero(x>self.split)[0]\n",
    "    self.lhs = DecisionTree(self.x, self.y, self.idxs[lhs])\n",
    "    self.rhs = DecisionTree(self.x, self.y, self.idxs[rhs])"
   ]
  },
  {
   "cell_type": "code",
   "execution_count": 78,
   "metadata": {},
   "outputs": [],
   "source": [
    "DecisionTree.find_varsplit = find_varsplit"
   ]
  },
  {
   "cell_type": "code",
   "execution_count": 79,
   "metadata": {},
   "outputs": [
    {
     "data": {
      "text/plain": [
       "n: 1000; val:10.079014121552744; score:658.5510186055565; split:1974.0; var:YearMade"
      ]
     },
     "execution_count": 79,
     "metadata": {},
     "output_type": "execute_result"
    }
   ],
   "source": [
    "tree = TreeEnsemble(x_sub,y_train,1,1000).trees[0]; tree"
   ]
  },
  {
   "cell_type": "code",
   "execution_count": 80,
   "metadata": {},
   "outputs": [
    {
     "data": {
      "text/plain": [
       "n: 159; val:9.660892662981706; score:76.82696888346362; split:2800.0; var:MachineHoursCurrentMeter"
      ]
     },
     "execution_count": 80,
     "metadata": {},
     "output_type": "execute_result"
    }
   ],
   "source": [
    "tree.lhs"
   ]
  },
  {
   "cell_type": "code",
   "execution_count": 81,
   "metadata": {},
   "outputs": [
    {
     "data": {
      "text/plain": [
       "n: 841; val:10.158064432982941; score:571.4803525045031; split:2005.0; var:YearMade"
      ]
     },
     "execution_count": 81,
     "metadata": {},
     "output_type": "execute_result"
    }
   ],
   "source": [
    "tree.rhs"
   ]
  },
  {
   "cell_type": "code",
   "execution_count": 82,
   "metadata": {},
   "outputs": [
    {
     "data": {
      "text/plain": [
       "n: 150; val:9.619280538108496; score:71.15906938383463; split:1000.0; var:YearMade"
      ]
     },
     "execution_count": 82,
     "metadata": {},
     "output_type": "execute_result"
    }
   ],
   "source": [
    "tree.lhs.lhs"
   ]
  },
  {
   "cell_type": "code",
   "execution_count": 83,
   "metadata": {},
   "outputs": [
    {
     "data": {
      "text/plain": [
       "n: 28; val:10.669849650935848; score:16.460871194578985; split:895.0; var:MachineHoursCurrentMeter"
      ]
     },
     "execution_count": 83,
     "metadata": {},
     "output_type": "execute_result"
    }
   ],
   "source": [
    "tree.rhs.rhs"
   ]
  },
  {
   "cell_type": "code",
   "execution_count": 92,
   "metadata": {},
   "outputs": [
    {
     "data": {
      "text/plain": [
       "n: 9; val:10.354428077535193"
      ]
     },
     "execution_count": 92,
     "metadata": {},
     "output_type": "execute_result"
    }
   ],
   "source": [
    "tree.lhs.rhs"
   ]
  },
  {
   "cell_type": "markdown",
   "metadata": {},
   "source": [
    "### Predictions"
   ]
  },
  {
   "cell_type": "code",
   "execution_count": 84,
   "metadata": {},
   "outputs": [],
   "source": [
    "cols = ['MachineID', 'YearMade', 'MachineHoursCurrentMeter', 'ProductSize', 'Enclosure',\n",
    "        'Coupler_System', 'saleYear']"
   ]
  },
  {
   "cell_type": "code",
   "execution_count": 93,
   "metadata": {},
   "outputs": [
    {
     "name": "stdout",
     "output_type": "stream",
     "text": [
      "CPU times: user 495 ms, sys: 12.8 ms, total: 507 ms\n",
      "Wall time: 527 ms\n"
     ]
    }
   ],
   "source": [
    "%time tree = TreeEnsemble(X_train[cols], y_train, 1, 1000).trees[0]\n",
    "x_samp,y_samp = tree.x, tree.y"
   ]
  },
  {
   "cell_type": "code",
   "execution_count": 94,
   "metadata": {},
   "outputs": [
    {
     "data": {
      "image/svg+xml": [
       "<?xml version=\"1.0\" encoding=\"UTF-8\" standalone=\"no\"?>\n",
       "<!DOCTYPE svg PUBLIC \"-//W3C//DTD SVG 1.1//EN\"\n",
       " \"http://www.w3.org/Graphics/SVG/1.1/DTD/svg11.dtd\">\n",
       "<!-- Generated by graphviz version 2.42.3 (20191010.1750)\n",
       " -->\n",
       "<!-- Title: Tree Pages: 1 -->\n",
       "<svg width=\"720pt\" height=\"434pt\"\n",
       " viewBox=\"0.00 0.00 720.00 434.43\" xmlns=\"http://www.w3.org/2000/svg\" xmlns:xlink=\"http://www.w3.org/1999/xlink\">\n",
       "<g id=\"graph0\" class=\"graph\" transform=\"scale(1.23 1.23) rotate(0) translate(4 530)\">\n",
       "<title>Tree</title>\n",
       "<polygon fill=\"white\" stroke=\"transparent\" points=\"-4,4 -4,-530 881.02,-530 881.02,4 -4,4\"/>\n",
       "<!-- 0 -->\n",
       "<g id=\"node1\" class=\"node\">\n",
       "<title>0</title>\n",
       "<polygon fill=\"#eca36f\" stroke=\"black\" points=\"173.54,-322 32.51,-322 32.51,-258 173.54,-258 173.54,-322\"/>\n",
       "<text text-anchor=\"start\" x=\"40.27\" y=\"-306.8\" font-family=\"Times,serif\" font-size=\"14.00\">Coupler_System ≤ 0.5</text>\n",
       "<text text-anchor=\"start\" x=\"72.05\" y=\"-292.8\" font-family=\"Times,serif\" font-size=\"14.00\">mse = 0.47</text>\n",
       "<text text-anchor=\"start\" x=\"59.02\" y=\"-278.8\" font-family=\"Times,serif\" font-size=\"14.00\">samples = 1000</text>\n",
       "<text text-anchor=\"start\" x=\"64.67\" y=\"-264.8\" font-family=\"Times,serif\" font-size=\"14.00\">value = 10.08</text>\n",
       "</g>\n",
       "<!-- 1 -->\n",
       "<g id=\"node2\" class=\"node\">\n",
       "<title>1</title>\n",
       "<polygon fill=\"#ea9b61\" stroke=\"black\" points=\"415.39,-356 288.66,-356 288.66,-292 415.39,-292 415.39,-356\"/>\n",
       "<text text-anchor=\"start\" x=\"296.59\" y=\"-340.8\" font-family=\"Times,serif\" font-size=\"14.00\">YearMade ≤ 1980.5</text>\n",
       "<text text-anchor=\"start\" x=\"321.05\" y=\"-326.8\" font-family=\"Times,serif\" font-size=\"14.00\">mse = 0.41</text>\n",
       "<text text-anchor=\"start\" x=\"311.52\" y=\"-312.8\" font-family=\"Times,serif\" font-size=\"14.00\">samples = 898</text>\n",
       "<text text-anchor=\"start\" x=\"313.67\" y=\"-298.8\" font-family=\"Times,serif\" font-size=\"14.00\">value = 10.18</text>\n",
       "</g>\n",
       "<!-- 0&#45;&gt;1 -->\n",
       "<g id=\"edge1\" class=\"edge\">\n",
       "<title>0&#45;&gt;1</title>\n",
       "<path fill=\"none\" stroke=\"black\" d=\"M173.81,-299.61C206.52,-304.11 245.47,-309.47 278.52,-314.02\"/>\n",
       "<polygon fill=\"black\" stroke=\"black\" points=\"278.18,-317.51 288.57,-315.4 279.14,-310.57 278.18,-317.51\"/>\n",
       "<text text-anchor=\"middle\" x=\"268.65\" y=\"-326.3\" font-family=\"Times,serif\" font-size=\"14.00\">True</text>\n",
       "</g>\n",
       "<!-- 8 -->\n",
       "<g id=\"node9\" class=\"node\">\n",
       "<title>8</title>\n",
       "<polygon fill=\"#fcefe5\" stroke=\"black\" points=\"415.39,-234 288.66,-234 288.66,-170 415.39,-170 415.39,-234\"/>\n",
       "<text text-anchor=\"start\" x=\"296.59\" y=\"-218.8\" font-family=\"Times,serif\" font-size=\"14.00\">YearMade ≤ 1998.5</text>\n",
       "<text text-anchor=\"start\" x=\"321.05\" y=\"-204.8\" font-family=\"Times,serif\" font-size=\"14.00\">mse = 0.12</text>\n",
       "<text text-anchor=\"start\" x=\"311.52\" y=\"-190.8\" font-family=\"Times,serif\" font-size=\"14.00\">samples = 102</text>\n",
       "<text text-anchor=\"start\" x=\"317.17\" y=\"-176.8\" font-family=\"Times,serif\" font-size=\"14.00\">value = 9.17</text>\n",
       "</g>\n",
       "<!-- 0&#45;&gt;8 -->\n",
       "<g id=\"edge8\" class=\"edge\">\n",
       "<title>0&#45;&gt;8</title>\n",
       "<path fill=\"none\" stroke=\"black\" d=\"M173.81,-265.14C206.66,-253.43 245.81,-239.49 278.94,-227.68\"/>\n",
       "<polygon fill=\"black\" stroke=\"black\" points=\"280.32,-230.9 288.57,-224.25 277.97,-224.31 280.32,-230.9\"/>\n",
       "<text text-anchor=\"middle\" x=\"265.98\" y=\"-209.33\" font-family=\"Times,serif\" font-size=\"14.00\">False</text>\n",
       "</g>\n",
       "<!-- 2 -->\n",
       "<g id=\"node3\" class=\"node\">\n",
       "<title>2</title>\n",
       "<polygon fill=\"#f0b88f\" stroke=\"black\" points=\"653.39,-465 526.66,-465 526.66,-401 653.39,-401 653.39,-465\"/>\n",
       "<text text-anchor=\"start\" x=\"534.59\" y=\"-449.8\" font-family=\"Times,serif\" font-size=\"14.00\">YearMade ≤ 1974.5</text>\n",
       "<text text-anchor=\"start\" x=\"559.05\" y=\"-435.8\" font-family=\"Times,serif\" font-size=\"14.00\">mse = 0.28</text>\n",
       "<text text-anchor=\"start\" x=\"549.52\" y=\"-421.8\" font-family=\"Times,serif\" font-size=\"14.00\">samples = 226</text>\n",
       "<text text-anchor=\"start\" x=\"555.17\" y=\"-407.8\" font-family=\"Times,serif\" font-size=\"14.00\">value = 9.83</text>\n",
       "</g>\n",
       "<!-- 1&#45;&gt;2 -->\n",
       "<g id=\"edge2\" class=\"edge\">\n",
       "<title>1&#45;&gt;2</title>\n",
       "<path fill=\"none\" stroke=\"black\" d=\"M415.65,-352.92C446.84,-367.33 484.72,-384.82 517.1,-399.78\"/>\n",
       "<polygon fill=\"black\" stroke=\"black\" points=\"515.97,-403.11 526.52,-404.13 518.91,-396.76 515.97,-403.11\"/>\n",
       "</g>\n",
       "<!-- 5 -->\n",
       "<g id=\"node6\" class=\"node\">\n",
       "<title>5</title>\n",
       "<polygon fill=\"#e89152\" stroke=\"black\" points=\"647.86,-356 532.18,-356 532.18,-292 647.86,-292 647.86,-356\"/>\n",
       "<text text-anchor=\"start\" x=\"540.1\" y=\"-340.8\" font-family=\"Times,serif\" font-size=\"14.00\">ProductSize ≤ 1.5</text>\n",
       "<text text-anchor=\"start\" x=\"559.05\" y=\"-326.8\" font-family=\"Times,serif\" font-size=\"14.00\">mse = 0.39</text>\n",
       "<text text-anchor=\"start\" x=\"549.52\" y=\"-312.8\" font-family=\"Times,serif\" font-size=\"14.00\">samples = 672</text>\n",
       "<text text-anchor=\"start\" x=\"555.17\" y=\"-298.8\" font-family=\"Times,serif\" font-size=\"14.00\">value = 10.3</text>\n",
       "</g>\n",
       "<!-- 1&#45;&gt;5 -->\n",
       "<g id=\"edge5\" class=\"edge\">\n",
       "<title>1&#45;&gt;5</title>\n",
       "<path fill=\"none\" stroke=\"black\" d=\"M415.65,-324C448.44,-324 488.62,-324 522.03,-324\"/>\n",
       "<polygon fill=\"black\" stroke=\"black\" points=\"522.17,-327.5 532.17,-324 522.17,-320.5 522.17,-327.5\"/>\n",
       "</g>\n",
       "<!-- 3 -->\n",
       "<g id=\"node4\" class=\"node\">\n",
       "<title>3</title>\n",
       "<polygon fill=\"#f2c19e\" stroke=\"black\" points=\"854.52,-526 757.52,-526 757.52,-476 854.52,-476 854.52,-526\"/>\n",
       "<text text-anchor=\"start\" x=\"775.05\" y=\"-510.8\" font-family=\"Times,serif\" font-size=\"14.00\">mse = 0.25</text>\n",
       "<text text-anchor=\"start\" x=\"765.52\" y=\"-496.8\" font-family=\"Times,serif\" font-size=\"14.00\">samples = 143</text>\n",
       "<text text-anchor=\"start\" x=\"771.17\" y=\"-482.8\" font-family=\"Times,serif\" font-size=\"14.00\">value = 9.72</text>\n",
       "</g>\n",
       "<!-- 2&#45;&gt;3 -->\n",
       "<g id=\"edge3\" class=\"edge\">\n",
       "<title>2&#45;&gt;3</title>\n",
       "<path fill=\"none\" stroke=\"black\" d=\"M653.5,-452.85C683.31,-462.33 718.74,-473.58 747.84,-482.83\"/>\n",
       "<polygon fill=\"black\" stroke=\"black\" points=\"746.86,-486.19 757.45,-485.88 748.98,-479.52 746.86,-486.19\"/>\n",
       "</g>\n",
       "<!-- 4 -->\n",
       "<g id=\"node5\" class=\"node\">\n",
       "<title>4</title>\n",
       "<polygon fill=\"#eda775\" stroke=\"black\" points=\"852.24,-458 759.81,-458 759.81,-408 852.24,-408 852.24,-458\"/>\n",
       "<text text-anchor=\"start\" x=\"775.05\" y=\"-442.8\" font-family=\"Times,serif\" font-size=\"14.00\">mse = 0.29</text>\n",
       "<text text-anchor=\"start\" x=\"769.02\" y=\"-428.8\" font-family=\"Times,serif\" font-size=\"14.00\">samples = 83</text>\n",
       "<text text-anchor=\"start\" x=\"767.67\" y=\"-414.8\" font-family=\"Times,serif\" font-size=\"14.00\">value = 10.03</text>\n",
       "</g>\n",
       "<!-- 2&#45;&gt;4 -->\n",
       "<g id=\"edge4\" class=\"edge\">\n",
       "<title>2&#45;&gt;4</title>\n",
       "<path fill=\"none\" stroke=\"black\" d=\"M653.5,-433C683.84,-433 720.01,-433 749.4,-433\"/>\n",
       "<polygon fill=\"black\" stroke=\"black\" points=\"749.49,-436.5 759.49,-433 749.49,-429.5 749.49,-436.5\"/>\n",
       "</g>\n",
       "<!-- 6 -->\n",
       "<g id=\"node7\" class=\"node\">\n",
       "<title>6</title>\n",
       "<polygon fill=\"#eba06a\" stroke=\"black\" points=\"854.52,-390 757.52,-390 757.52,-340 854.52,-340 854.52,-390\"/>\n",
       "<text text-anchor=\"start\" x=\"775.05\" y=\"-374.8\" font-family=\"Times,serif\" font-size=\"14.00\">mse = 0.29</text>\n",
       "<text text-anchor=\"start\" x=\"765.52\" y=\"-360.8\" font-family=\"Times,serif\" font-size=\"14.00\">samples = 341</text>\n",
       "<text text-anchor=\"start\" x=\"767.92\" y=\"-346.8\" font-family=\"Times,serif\" font-size=\"14.00\">value = 10.11</text>\n",
       "</g>\n",
       "<!-- 5&#45;&gt;6 -->\n",
       "<g id=\"edge6\" class=\"edge\">\n",
       "<title>5&#45;&gt;6</title>\n",
       "<path fill=\"none\" stroke=\"black\" d=\"M648.09,-334.93C678.79,-340.82 716.57,-348.05 747.36,-353.95\"/>\n",
       "<polygon fill=\"black\" stroke=\"black\" points=\"747.04,-357.45 757.52,-355.9 748.35,-350.58 747.04,-357.45\"/>\n",
       "</g>\n",
       "<!-- 7 -->\n",
       "<g id=\"node8\" class=\"node\">\n",
       "<title>7</title>\n",
       "<polygon fill=\"#e58139\" stroke=\"black\" points=\"854.52,-322 757.52,-322 757.52,-272 854.52,-272 854.52,-322\"/>\n",
       "<text text-anchor=\"start\" x=\"775.05\" y=\"-306.8\" font-family=\"Times,serif\" font-size=\"14.00\">mse = 0.43</text>\n",
       "<text text-anchor=\"start\" x=\"765.52\" y=\"-292.8\" font-family=\"Times,serif\" font-size=\"14.00\">samples = 331</text>\n",
       "<text text-anchor=\"start\" x=\"767.67\" y=\"-278.8\" font-family=\"Times,serif\" font-size=\"14.00\">value = 10.49</text>\n",
       "</g>\n",
       "<!-- 5&#45;&gt;7 -->\n",
       "<g id=\"edge7\" class=\"edge\">\n",
       "<title>5&#45;&gt;7</title>\n",
       "<path fill=\"none\" stroke=\"black\" d=\"M648.09,-316.8C678.79,-312.93 716.57,-308.16 747.36,-304.28\"/>\n",
       "<polygon fill=\"black\" stroke=\"black\" points=\"748.03,-307.72 757.52,-302.99 747.16,-300.77 748.03,-307.72\"/>\n",
       "</g>\n",
       "<!-- 9 -->\n",
       "<g id=\"node10\" class=\"node\">\n",
       "<title>9</title>\n",
       "<polygon fill=\"#fefbf9\" stroke=\"black\" points=\"648.28,-234 531.77,-234 531.77,-170 648.28,-170 648.28,-234\"/>\n",
       "<text text-anchor=\"start\" x=\"539.65\" y=\"-218.8\" font-family=\"Times,serif\" font-size=\"14.00\">saleYear ≤ 1995.5</text>\n",
       "<text text-anchor=\"start\" x=\"562.55\" y=\"-204.8\" font-family=\"Times,serif\" font-size=\"14.00\">mse = 0.1</text>\n",
       "<text text-anchor=\"start\" x=\"553.02\" y=\"-190.8\" font-family=\"Times,serif\" font-size=\"14.00\">samples = 49</text>\n",
       "<text text-anchor=\"start\" x=\"555.17\" y=\"-176.8\" font-family=\"Times,serif\" font-size=\"14.00\">value = 9.02</text>\n",
       "</g>\n",
       "<!-- 8&#45;&gt;9 -->\n",
       "<g id=\"edge9\" class=\"edge\">\n",
       "<title>8&#45;&gt;9</title>\n",
       "<path fill=\"none\" stroke=\"black\" d=\"M415.65,-202C448.19,-202 488.01,-202 521.27,-202\"/>\n",
       "<polygon fill=\"black\" stroke=\"black\" points=\"521.37,-205.5 531.37,-202 521.37,-198.5 521.37,-205.5\"/>\n",
       "</g>\n",
       "<!-- 12 -->\n",
       "<g id=\"node13\" class=\"node\">\n",
       "<title>12</title>\n",
       "<polygon fill=\"#f9e3d3\" stroke=\"black\" points=\"648.28,-125 531.77,-125 531.77,-61 648.28,-61 648.28,-125\"/>\n",
       "<text text-anchor=\"start\" x=\"539.65\" y=\"-109.8\" font-family=\"Times,serif\" font-size=\"14.00\">saleYear ≤ 2007.5</text>\n",
       "<text text-anchor=\"start\" x=\"562.55\" y=\"-95.8\" font-family=\"Times,serif\" font-size=\"14.00\">mse = 0.1</text>\n",
       "<text text-anchor=\"start\" x=\"553.02\" y=\"-81.8\" font-family=\"Times,serif\" font-size=\"14.00\">samples = 53</text>\n",
       "<text text-anchor=\"start\" x=\"555.17\" y=\"-67.8\" font-family=\"Times,serif\" font-size=\"14.00\">value = 9.31</text>\n",
       "</g>\n",
       "<!-- 8&#45;&gt;12 -->\n",
       "<g id=\"edge12\" class=\"edge\">\n",
       "<title>8&#45;&gt;12</title>\n",
       "<path fill=\"none\" stroke=\"black\" d=\"M415.65,-173.08C448.48,-157.91 488.7,-139.34 522.13,-123.89\"/>\n",
       "<polygon fill=\"black\" stroke=\"black\" points=\"523.76,-127 531.37,-119.63 520.83,-120.64 523.76,-127\"/>\n",
       "</g>\n",
       "<!-- 10 -->\n",
       "<g id=\"node11\" class=\"node\">\n",
       "<title>10</title>\n",
       "<polygon fill=\"#f7d7c0\" stroke=\"black\" points=\"848.74,-254 763.31,-254 763.31,-204 848.74,-204 848.74,-254\"/>\n",
       "<text text-anchor=\"start\" x=\"775.05\" y=\"-238.8\" font-family=\"Times,serif\" font-size=\"14.00\">mse = 0.03</text>\n",
       "<text text-anchor=\"start\" x=\"772.52\" y=\"-224.8\" font-family=\"Times,serif\" font-size=\"14.00\">samples = 5</text>\n",
       "<text text-anchor=\"start\" x=\"771.17\" y=\"-210.8\" font-family=\"Times,serif\" font-size=\"14.00\">value = 9.46</text>\n",
       "</g>\n",
       "<!-- 9&#45;&gt;10 -->\n",
       "<g id=\"edge10\" class=\"edge\">\n",
       "<title>9&#45;&gt;10</title>\n",
       "<path fill=\"none\" stroke=\"black\" d=\"M648.37,-209.24C680.99,-213.35 721.53,-218.47 753.19,-222.46\"/>\n",
       "<polygon fill=\"black\" stroke=\"black\" points=\"752.78,-225.94 763.13,-223.71 753.65,-218.99 752.78,-225.94\"/>\n",
       "</g>\n",
       "<!-- 11 -->\n",
       "<g id=\"node12\" class=\"node\">\n",
       "<title>11</title>\n",
       "<polygon fill=\"#ffffff\" stroke=\"black\" points=\"851.02,-186 761.02,-186 761.02,-136 851.02,-136 851.02,-186\"/>\n",
       "<text text-anchor=\"start\" x=\"775.05\" y=\"-170.8\" font-family=\"Times,serif\" font-size=\"14.00\">mse = 0.08</text>\n",
       "<text text-anchor=\"start\" x=\"769.02\" y=\"-156.8\" font-family=\"Times,serif\" font-size=\"14.00\">samples = 44</text>\n",
       "<text text-anchor=\"start\" x=\"771.17\" y=\"-142.8\" font-family=\"Times,serif\" font-size=\"14.00\">value = 8.97</text>\n",
       "</g>\n",
       "<!-- 9&#45;&gt;11 -->\n",
       "<g id=\"edge11\" class=\"edge\">\n",
       "<title>9&#45;&gt;11</title>\n",
       "<path fill=\"none\" stroke=\"black\" d=\"M648.37,-191.01C680.21,-184.91 719.59,-177.37 750.9,-171.37\"/>\n",
       "<polygon fill=\"black\" stroke=\"black\" points=\"751.59,-174.8 760.76,-169.48 750.28,-167.93 751.59,-174.8\"/>\n",
       "</g>\n",
       "<!-- 13 -->\n",
       "<g id=\"node14\" class=\"node\">\n",
       "<title>13</title>\n",
       "<polygon fill=\"#f6d5bd\" stroke=\"black\" points=\"851.02,-118 761.02,-118 761.02,-68 851.02,-68 851.02,-118\"/>\n",
       "<text text-anchor=\"start\" x=\"775.05\" y=\"-102.8\" font-family=\"Times,serif\" font-size=\"14.00\">mse = 0.08</text>\n",
       "<text text-anchor=\"start\" x=\"769.02\" y=\"-88.8\" font-family=\"Times,serif\" font-size=\"14.00\">samples = 22</text>\n",
       "<text text-anchor=\"start\" x=\"771.17\" y=\"-74.8\" font-family=\"Times,serif\" font-size=\"14.00\">value = 9.48</text>\n",
       "</g>\n",
       "<!-- 12&#45;&gt;13 -->\n",
       "<g id=\"edge13\" class=\"edge\">\n",
       "<title>12&#45;&gt;13</title>\n",
       "<path fill=\"none\" stroke=\"black\" d=\"M648.37,-93C680.07,-93 719.25,-93 750.49,-93\"/>\n",
       "<polygon fill=\"black\" stroke=\"black\" points=\"750.76,-96.5 760.76,-93 750.76,-89.5 750.76,-96.5\"/>\n",
       "</g>\n",
       "<!-- 14 -->\n",
       "<g id=\"node15\" class=\"node\">\n",
       "<title>14</title>\n",
       "<polygon fill=\"#fbede3\" stroke=\"black\" points=\"851.02,-50 761.02,-50 761.02,0 851.02,0 851.02,-50\"/>\n",
       "<text text-anchor=\"start\" x=\"775.05\" y=\"-34.8\" font-family=\"Times,serif\" font-size=\"14.00\">mse = 0.08</text>\n",
       "<text text-anchor=\"start\" x=\"769.02\" y=\"-20.8\" font-family=\"Times,serif\" font-size=\"14.00\">samples = 31</text>\n",
       "<text text-anchor=\"start\" x=\"771.17\" y=\"-6.8\" font-family=\"Times,serif\" font-size=\"14.00\">value = 9.19</text>\n",
       "</g>\n",
       "<!-- 12&#45;&gt;14 -->\n",
       "<g id=\"edge14\" class=\"edge\">\n",
       "<title>12&#45;&gt;14</title>\n",
       "<path fill=\"none\" stroke=\"black\" d=\"M648.37,-74.78C680.21,-64.66 719.59,-52.15 750.9,-42.2\"/>\n",
       "<polygon fill=\"black\" stroke=\"black\" points=\"752.29,-45.43 760.76,-39.07 750.17,-38.76 752.29,-45.43\"/>\n",
       "</g>\n",
       "</g>\n",
       "</svg>\n"
      ],
      "text/plain": [
       "<graphviz.files.Source at 0x12333e2e8>"
      ]
     },
     "metadata": {},
     "output_type": "display_data"
    }
   ],
   "source": [
    "m = RandomForestRegressor(n_estimators=1, max_depth=3, bootstrap=False)\n",
    "m.fit(x_samp, y_samp)\n",
    "draw_tree(m.estimators_[0], x_samp, precision=2)"
   ]
  },
  {
   "cell_type": "code",
   "execution_count": 95,
   "metadata": {},
   "outputs": [],
   "source": [
    "def predict(self,x): return np.array([self.predict_row(xi) for xi in x])\n",
    "DecisionTree.predict = predict"
   ]
  },
  {
   "cell_type": "code",
   "execution_count": 96,
   "metadata": {},
   "outputs": [],
   "source": [
    "def predict_row(self, xi):\n",
    "    if self.is_leaf: return self.value\n",
    "    t = self.lhs if xi[self.var_idx]<=self.split else self.rhs\n",
    "    return t.predict_row(xi)\n",
    "\n",
    "DecisionTree.predict_row = predict_row"
   ]
  },
  {
   "cell_type": "code",
   "execution_count": 97,
   "metadata": {},
   "outputs": [
    {
     "name": "stdout",
     "output_type": "stream",
     "text": [
      "CPU times: user 93.1 ms, sys: 2.98 ms, total: 96 ms\n",
      "Wall time: 108 ms\n"
     ]
    }
   ],
   "source": [
    "%time preds = tree.predict(X_valid[cols].values)"
   ]
  },
  {
   "cell_type": "code",
   "execution_count": 98,
   "metadata": {},
   "outputs": [
    {
     "data": {
      "text/plain": [
       "<matplotlib.collections.PathCollection at 0x138a22470>"
      ]
     },
     "execution_count": 98,
     "metadata": {},
     "output_type": "execute_result"
    },
    {
     "data": {
      "image/png": "[encoded data removed]",
      "text/plain": [
       "<Figure size 432x288 with 1 Axes>"
      ]
     },
     "metadata": {
      "needs_background": "light"
     },
     "output_type": "display_data"
    }
   ],
   "source": [
    "plt.scatter(preds, y_valid, alpha=0.05)"
   ]
  },
  {
   "cell_type": "code",
   "execution_count": 99,
   "metadata": {},
   "outputs": [
    {
     "data": {
      "text/plain": [
       "0.4840854669925271"
      ]
     },
     "execution_count": 99,
     "metadata": {},
     "output_type": "execute_result"
    }
   ],
   "source": [
    "metrics.r2_score(preds, y_valid)"
   ]
  },
  {
   "cell_type": "markdown",
   "metadata": {},
   "source": [
    "**Compare with scki-kit learn model**"
   ]
  },
  {
   "cell_type": "code",
   "execution_count": 100,
   "metadata": {},
   "outputs": [
    {
     "name": "stdout",
     "output_type": "stream",
     "text": [
      "CPU times: user 6.9 ms, sys: 1.73 ms, total: 8.62 ms\n",
      "Wall time: 8.67 ms\n"
     ]
    },
    {
     "data": {
      "text/plain": [
       "<matplotlib.collections.PathCollection at 0x12332a780>"
      ]
     },
     "execution_count": 100,
     "metadata": {},
     "output_type": "execute_result"
    },
    {
     "data": {
      "image/png": "[encoded data removed]",
      "text/plain": [
       "<Figure size 432x288 with 1 Axes>"
      ]
     },
     "metadata": {
      "needs_background": "light"
     },
     "output_type": "display_data"
    }
   ],
   "source": [
    "m = RandomForestRegressor(n_estimators=1, min_samples_leaf=5, bootstrap=False)\n",
    "%time m.fit(x_samp, y_samp)\n",
    "preds = m.predict(X_valid[cols].values)\n",
    "plt.scatter(preds, y_valid, alpha=0.05)"
   ]
  },
  {
   "cell_type": "markdown",
   "metadata": {},
   "source": [
    "### Putting it all together"
   ]
  },
  {
   "cell_type": "code",
   "execution_count": 102,
   "metadata": {},
   "outputs": [],
   "source": [
    "class TreeEnsemble():\n",
    "    def __init__(self, x, y, n_trees, sample_sz, min_leaf=5):\n",
    "        np.random.seed(42)\n",
    "        self.x,self.y,self.sample_sz,self.min_leaf = x,y,sample_sz,min_leaf\n",
    "        self.trees = [self.create_tree() for i in range(n_trees)]\n",
    "\n",
    "    def create_tree(self):\n",
    "        idxs = np.random.permutation(len(self.y))[:self.sample_sz]\n",
    "        return DecisionTree(self.x.iloc[idxs], self.y[idxs], \n",
    "                    idxs=np.array(range(self.sample_sz)), min_leaf=self.min_leaf)\n",
    "        \n",
    "    def predict(self, x):\n",
    "        return np.mean([t.predict(x) for t in self.trees], axis=0)\n",
    "\n",
    "def std_agg(cnt, s1, s2): return math.sqrt((s2/cnt) - (s1/cnt)**2)"
   ]
  },
  {
   "cell_type": "code",
   "execution_count": 103,
   "metadata": {},
   "outputs": [],
   "source": [
    "class DecisionTree():\n",
    "    def __init__(self, x, y, idxs, min_leaf=5):\n",
    "        self.x,self.y,self.idxs,self.min_leaf = x,y,idxs,min_leaf\n",
    "        self.n,self.c = len(idxs), x.shape[1]\n",
    "        self.val = np.mean(y[idxs])\n",
    "        self.score = float('inf')\n",
    "        self.find_varsplit()\n",
    "        \n",
    "    def find_varsplit(self):\n",
    "        for i in range(self.c): self.find_better_split(i)\n",
    "        if self.score == float('inf'): return\n",
    "        x = self.split_col\n",
    "        lhs = np.nonzero(x<=self.split)[0]\n",
    "        rhs = np.nonzero(x>self.split)[0]\n",
    "        self.lhs = DecisionTree(self.x, self.y, self.idxs[lhs])\n",
    "        self.rhs = DecisionTree(self.x, self.y, self.idxs[rhs])\n",
    "\n",
    "    def find_better_split(self, var_idx):\n",
    "        x,y = self.x.values[self.idxs,var_idx], self.y[self.idxs]\n",
    "        sort_idx = np.argsort(x)\n",
    "        sort_y,sort_x = y[sort_idx], x[sort_idx]\n",
    "        rhs_cnt,rhs_sum,rhs_sum2 = self.n, sort_y.sum(), (sort_y**2).sum()\n",
    "        lhs_cnt,lhs_sum,lhs_sum2 = 0,0.,0.\n",
    "\n",
    "        for i in range(0,self.n-self.min_leaf):\n",
    "            xi,yi = sort_x[i],sort_y[i]\n",
    "            lhs_cnt += 1; rhs_cnt -= 1\n",
    "            lhs_sum += yi; rhs_sum -= yi\n",
    "            lhs_sum2 += yi**2; rhs_sum2 -= yi**2\n",
    "            if i<self.min_leaf-1 or xi==sort_x[i+1]:\n",
    "                continue\n",
    "\n",
    "            lhs_std = std_agg(lhs_cnt, lhs_sum, lhs_sum2)\n",
    "            rhs_std = std_agg(rhs_cnt, rhs_sum, rhs_sum2)\n",
    "            curr_score = lhs_std*lhs_cnt + rhs_std*rhs_cnt\n",
    "            if curr_score<self.score: \n",
    "                self.var_idx,self.score,self.split = var_idx,curr_score,xi\n",
    "\n",
    "    @property\n",
    "    def split_name(self): return self.x.columns[self.var_idx]\n",
    "    \n",
    "    @property\n",
    "    def split_col(self): return self.x.values[self.idxs,self.var_idx]\n",
    "\n",
    "    @property\n",
    "    def is_leaf(self): return self.score == float('inf')\n",
    "    \n",
    "    def __repr__(self):\n",
    "        s = f'n: {self.n}; val:{self.val}'\n",
    "        if not self.is_leaf:\n",
    "            s += f'; score:{self.score}; split:{self.split}; var:{self.split_name}'\n",
    "        return s\n",
    "\n",
    "    def predict(self, x):\n",
    "        return np.array([self.predict_row(xi) for xi in x])\n",
    "\n",
    "    def predict_row(self, xi):\n",
    "        if self.is_leaf: return self.val\n",
    "        t = self.lhs if xi[self.var_idx]<=self.split else self.rhs\n",
    "        return t.predict_row(xi)"
   ]
  },
  {
   "cell_type": "code",
   "execution_count": 104,
   "metadata": {},
   "outputs": [],
   "source": [
    "ens = TreeEnsemble(X_train[cols], y_train, 5, 1000)"
   ]
  },
  {
   "cell_type": "code",
   "execution_count": 105,
   "metadata": {},
   "outputs": [],
   "source": [
    "preds = ens.predict(X_valid[cols].values)"
   ]
  },
  {
   "cell_type": "code",
   "execution_count": 106,
   "metadata": {},
   "outputs": [
    {
     "data": {
      "image/png": "[encoded data removed]",
      "text/plain": [
       "<Figure size 432x288 with 1 Axes>"
      ]
     },
     "metadata": {
      "needs_background": "light"
     },
     "output_type": "display_data"
    }
   ],
   "source": [
    "plt.scatter(y_valid, preds, alpha=0.1, s=6);"
   ]
  },
  {
   "cell_type": "code",
   "execution_count": 107,
   "metadata": {},
   "outputs": [
    {
     "data": {
      "text/plain": [
       "0.7025757322910476"
      ]
     },
     "execution_count": 107,
     "metadata": {},
     "output_type": "execute_result"
    }
   ],
   "source": [
    "metrics.r2_score(y_valid, preds)"
   ]
  },
  {
   "cell_type": "markdown",
   "metadata": {},
   "source": [
    "### Quick primer on np.random.permutation\n"
   ]
  },
  {
   "cell_type": "code",
   "execution_count": 101,
   "metadata": {},
   "outputs": [
    {
     "data": {
      "text/plain": [
       "\u001b[0;31mDocstring:\u001b[0m\n",
       "permutation(x)\n",
       "\n",
       "Randomly permute a sequence, or return a permuted range.\n",
       "\n",
       "If `x` is a multi-dimensional array, it is only shuffled along its\n",
       "first index.\n",
       "\n",
       ".. note::\n",
       "    New code should use the ``permutation`` method of a ``default_rng()``\n",
       "    instance instead; see `random-quick-start`.\n",
       "\n",
       "Parameters\n",
       "----------\n",
       "x : int or array_like\n",
       "    If `x` is an integer, randomly permute ``np.arange(x)``.\n",
       "    If `x` is an array, make a copy and shuffle the elements\n",
       "    randomly.\n",
       "\n",
       "Returns\n",
       "-------\n",
       "out : ndarray\n",
       "    Permuted sequence or array range.\n",
       "\n",
       "See Also\n",
       "--------\n",
       "Generator.permutation: which should be used for new code.\n",
       "\n",
       "Examples\n",
       "--------\n",
       ">>> np.random.permutation(10)\n",
       "array([1, 7, 4, 3, 0, 9, 2, 5, 8, 6]) # random\n",
       "\n",
       ">>> np.random.permutation([1, 4, 9, 12, 15])\n",
       "array([15,  1,  9,  4, 12]) # random\n",
       "\n",
       ">>> arr = np.arange(9).reshape((3, 3))\n",
       ">>> np.random.permutation(arr)\n",
       "array([[6, 7, 8], # random\n",
       "       [0, 1, 2],\n",
       "       [3, 4, 5]])\n",
       "\u001b[0;31mType:\u001b[0m      builtin_function_or_method\n"
      ]
     },
     "metadata": {},
     "output_type": "display_data"
    }
   ],
   "source": [
    "?np.random.permutation"
   ]
  },
  {
   "cell_type": "code",
   "execution_count": null,
   "metadata": {},
   "outputs": [],
   "source": [
    "a = [1,2,3,4,5]\n",
    "sample_sz = 3\n",
    "np.random.permutation(len(a))[:sample_sz]"
   ]
  },
  {
   "cell_type": "code",
   "execution_count": null,
   "metadata": {},
   "outputs": [],
   "source": [
    "b = np.array([3])"
   ]
  },
  {
   "cell_type": "code",
   "execution_count": null,
   "metadata": {},
   "outputs": [],
   "source": [
    "np.array(range(3))"
   ]
  },
  {
   "cell_type": "code",
   "execution_count": null,
   "metadata": {},
   "outputs": [],
   "source": [
    "b.shape"
   ]
  },
  {
   "cell_type": "markdown",
   "metadata": {},
   "source": [
    "### More thoughts on Extrapolation"
   ]
  },
  {
   "cell_type": "code",
   "execution_count": null,
   "metadata": {},
   "outputs": [],
   "source": [
    "x = np.linspace(0,1)\n",
    "y = x + np.random.uniform(-0.2,0.2,x.shape)\n",
    "x.shape # tuple with 1 thing in it"
   ]
  },
  {
   "cell_type": "code",
   "execution_count": null,
   "metadata": {},
   "outputs": [],
   "source": [
    "# rank of a variable is equal to the length of its shape\n",
    "len(x.shape)"
   ]
  },
  {
   "cell_type": "code",
   "execution_count": null,
   "metadata": {},
   "outputs": [],
   "source": [
    "plt.scatter(x,y)"
   ]
  },
  {
   "cell_type": "code",
   "execution_count": null,
   "metadata": {},
   "outputs": [],
   "source": [
    "x_trn, x_val = x[:40],x[40:]\n",
    "y_trn, y_val = y[:40],y[40:]"
   ]
  },
  {
   "cell_type": "markdown",
   "metadata": {},
   "source": [
    "**None is a special indexer to add rank**"
   ]
  },
  {
   "cell_type": "code",
   "execution_count": null,
   "metadata": {},
   "outputs": [],
   "source": [
    "x[None,:].shape"
   ]
  },
  {
   "cell_type": "code",
   "execution_count": null,
   "metadata": {},
   "outputs": [],
   "source": [
    "x[:,None].shape"
   ]
  },
  {
   "cell_type": "code",
   "execution_count": null,
   "metadata": {},
   "outputs": [],
   "source": [
    "x1 = x[...,None]\n",
    "x1.shape"
   ]
  },
  {
   "cell_type": "code",
   "execution_count": null,
   "metadata": {},
   "outputs": [],
   "source": [
    "x_trn, x_val = x1[:40],x1[40:]\n",
    "y_trn, y_val = y[:40],y[40:]"
   ]
  },
  {
   "cell_type": "code",
   "execution_count": null,
   "metadata": {},
   "outputs": [],
   "source": [
    "m = RandomForestRegressor().fit(x_trn,y_trn)"
   ]
  },
  {
   "cell_type": "code",
   "execution_count": null,
   "metadata": {},
   "outputs": [],
   "source": [
    "plt.scatter(y_trn, m.predict(x_trn))"
   ]
  },
  {
   "cell_type": "code",
   "execution_count": null,
   "metadata": {},
   "outputs": [],
   "source": [
    "plt.scatter(y_val,m.predict(x_val))"
   ]
  },
  {
   "cell_type": "markdown",
   "metadata": {},
   "source": [
    "#### The validation set doesn't predict a line!"
   ]
  },
  {
   "cell_type": "markdown",
   "metadata": {},
   "source": [
    "- RF is just averaging data it's already seen"
   ]
  },
  {
   "cell_type": "markdown",
   "metadata": {},
   "source": [
    "- previously we avoided time dependent variables"
   ]
  },
  {
   "cell_type": "markdown",
   "metadata": {},
   "source": [
    "- solutions: \n",
    "    - **use a neural net that can approx a function**\n",
    "    - use a time series model, de-trend it, then use a RF on that\n",
    "    - gradiant boosting machine\n",
    "        - still can't extrapolate to the future, but deal with time dependent variables better"
   ]
  },
  {
   "cell_type": "markdown",
   "metadata": {},
   "source": [
    "## Computational Complexity"
   ]
  },
  {
   "cell_type": "markdown",
   "metadata": {},
   "source": [
    "Steps:\n",
    "- is there a loop? (n)\n",
    "- is there loop inside loop? \n",
    "    - if yes multiple by n\n",
    "    - if no, is there a sort(nlogn)"
   ]
  },
  {
   "cell_type": "markdown",
   "metadata": {},
   "source": []
  },
  {
   "cell_type": "markdown",
   "metadata": {},
   "source": []
  },
  {
   "cell_type": "markdown",
   "metadata": {},
   "source": [
    "\n"
   ]
  }
 ],
 "metadata": {
  "kernelspec": {
   "display_name": "Python 3",
   "language": "python",
   "name": "python3"
  },
  "language_info": {
   "codemirror_mode": {
    "name": "ipython",
    "version": 3
   },
   "file_extension": ".py",
   "mimetype": "text/x-python",
   "name": "python",
   "nbconvert_exporter": "python",
   "pygments_lexer": "ipython3",
   "version": "3.6.8"
  }
 },
 "nbformat": 4,
 "nbformat_minor": 4
}
