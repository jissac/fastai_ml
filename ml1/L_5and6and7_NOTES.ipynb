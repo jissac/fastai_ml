{
 "cells": [
  {
   "cell_type": "markdown",
   "metadata": {},
   "source": [
    "# RF from Scratch!\n",
    "- 2 Types of ML modeling techniques primarily used\n",
    "    - **Decision Tree Ensembles**\n",
    "        - RF, GBM, XGBoost - easily interpret, quick, but don't extrapolate at all\n",
    "    - **Neural nets**\n",
    "        - universal function approximator"
   ]
  },
  {
   "cell_type": "markdown",
   "metadata": {},
   "source": [
    "#### Imports"
   ]
  },
  {
   "cell_type": "code",
   "execution_count": 4,
   "metadata": {},
   "outputs": [
    {
     "name": "stdout",
     "output_type": "stream",
     "text": [
      "The autoreload extension is already loaded. To reload it, use:\n",
      "  %reload_ext autoreload\n"
     ]
    }
   ],
   "source": [
    "%load_ext autoreload\n",
    "%autoreload 2\n",
    "import sys"
   ]
  },
  {
   "cell_type": "code",
   "execution_count": 5,
   "metadata": {},
   "outputs": [],
   "source": [
    "%matplotlib inline\n",
    "sys.path.insert(0, \"/Users/JI/Documents/Github/fastai_ml/ml1/old/\")\n",
    "from fastai.imports import *\n",
    "from fastai.structured import *\n",
    "from sklearn.ensemble import RandomForestRegressor, RandomForestClassifier\n",
    "from IPython.display import display\n",
    "from sklearn import metrics"
   ]
  },
  {
   "cell_type": "markdown",
   "metadata": {},
   "source": [
    "#### Load data"
   ]
  },
  {
   "cell_type": "code",
   "execution_count": 6,
   "metadata": {},
   "outputs": [],
   "source": [
    "PATH = \"data/bulldozers/\"\n",
    "\n",
    "df_raw = pd.read_feather('tmp/bulldozers-raw')\n",
    "df_trn, y_trn, nas = proc_df(df_raw, 'SalePrice')"
   ]
  },
  {
   "cell_type": "code",
   "execution_count": 7,
   "metadata": {},
   "outputs": [],
   "source": [
    "def split_vals(a,n): return a[:n], a[n:]\n",
    "n_valid = 12000\n",
    "n_trn = len(df_trn)-n_valid\n",
    "X_train, X_valid = split_vals(df_trn, n_trn)\n",
    "y_train, y_valid = split_vals(y_trn, n_trn)\n",
    "raw_train, raw_valid = split_vals(df_raw, n_trn)"
   ]
  },
  {
   "cell_type": "code",
   "execution_count": 8,
   "metadata": {},
   "outputs": [],
   "source": [
    "# two cols to start simply\n",
    "x_sub = X_train[['YearMade', 'MachineHoursCurrentMeter']]"
   ]
  },
  {
   "cell_type": "markdown",
   "metadata": {},
   "source": [
    "#### Basic RF Data Structures\n",
    "- top down approach"
   ]
  },
  {
   "cell_type": "code",
   "execution_count": 9,
   "metadata": {},
   "outputs": [],
   "source": [
    "class TreeEnsemble():\n",
    "    def __init__(self,x,y,n_trees,sample_sz,min_leaf=5):\n",
    "        np.random.seed(42) # for testing purposes\n",
    "        self.x,self.y,self.sample_sz,self.min_leaf = x,y,sample_sz,min_leaf\n",
    "        self.trees = [self.create_tree() for i in range(n_trees)]\n",
    "        \n",
    "    def create_tree(self):\n",
    "        '''\n",
    "        Construct a Decision tree from a random sample of the data\n",
    "        '''\n",
    "        rndm_idxs = np.random.permutation(len(self.y))[:self.sample_sz]\n",
    "        return DecisionTree(self.x.iloc[rndm_idxs], self.y[rndm_idxs],\n",
    "                           idxs=np.array(range(self.sample_sz)), min_leaf=self.min_leaf)\n",
    "        \n",
    "    def predict(self,x):\n",
    "        '''\n",
    "        The tree ensemble predict function calls each tree's predict function\n",
    "        (not recursive)\n",
    "        '''\n",
    "        return np.mean([t.predict(x) for t in self.trees],axis=0)\n",
    "    "
   ]
  },
  {
   "cell_type": "code",
   "execution_count": 10,
   "metadata": {},
   "outputs": [],
   "source": [
    "class DecisionTree():\n",
    "    def __init__(self,x,y,idxs,min_leaf=5):\n",
    "        if idxs is None: idxs = np.arange(len(y)) # root of a decision tree contains all the rows\n",
    "        self.x,self.y,self.idxs,self.min_leaf = x,y,idxs,min_leaf\n",
    "        self.rows,self.cols = len(idxs), x.shape[1]\n",
    "        self.value = np.mean(y[idxs]) # every leaf has a value\n",
    "        self.score = float('inf')\n",
    "        self.find_varsplit() # which variable to split on\n",
    "        \n",
    "    def find_varsplit(self):\n",
    "        for i in range(self.cols): self.find_better_split(i)\n",
    "    \n",
    "    def find_better_split(self,var_idx): pass\n",
    "    \n",
    "    @property\n",
    "    def split_name(self): return self.x.columns[self.var_idx]\n",
    "    \n",
    "    @property\n",
    "    def split_col(self): return self.x.values[self.idxs,self.var_idx]\n",
    "\n",
    "    @property\n",
    "    def is_leaf(self): return self.score == float('inf')\n",
    "    \n",
    "    def __repr__(self):\n",
    "        s = f'n: {self.rows}; val:{self.value}'\n",
    "        if not self.is_leaf:\n",
    "            s += f'; score:{self.score}; split:{self.split}; var:{self.split_name}'\n",
    "        return s       "
   ]
  },
  {
   "cell_type": "code",
   "execution_count": 11,
   "metadata": {},
   "outputs": [],
   "source": [
    "# instantiate a TreeEnsemble\n",
    "m = TreeEnsemble(X_train, y_train, n_trees=10, sample_sz=1000, min_leaf=3)"
   ]
  },
  {
   "cell_type": "code",
   "execution_count": 12,
   "metadata": {},
   "outputs": [
    {
     "data": {
      "text/plain": [
       "n: 1000; val:10.079014121552744"
      ]
     },
     "execution_count": 12,
     "metadata": {},
     "output_type": "execute_result"
    }
   ],
   "source": [
    "m.trees[0]"
   ]
  },
  {
   "cell_type": "code",
   "execution_count": 13,
   "metadata": {},
   "outputs": [
    {
     "data": {
      "text/plain": [
       "array([  0,   1,   2,   3,   4,   5,   6,   7,   8,   9,  10,  11,  12,  13,  14,  15,  16,  17,  18,  19,\n",
       "        20,  21,  22,  23,  24,  25,  26,  27,  28,  29,  30,  31,  32,  33,  34,  35,  36,  37,  38,  39,\n",
       "        40,  41,  42,  43,  44,  45,  46,  47,  48,  49,  50,  51,  52,  53,  54,  55,  56,  57,  58,  59,\n",
       "        60,  61,  62,  63,  64,  65,  66,  67,  68,  69,  70,  71,  72,  73,  74,  75,  76,  77,  78,  79,\n",
       "        80,  81,  82,  83,  84,  85,  86,  87,  88,  89,  90,  91,  92,  93,  94,  95,  96,  97,  98,  99,\n",
       "       100, 101, 102, 103, 104, 105, 106, 107, 108, 109, 110, 111, 112, 113, 114, 115, 116, 117, 118, 119,\n",
       "       120, 121, 122, 123, 124, 125, 126, 127, 128, 129, 130, 131, 132, 133, 134, 135, 136, 137, 138, 139,\n",
       "       140, 141, 142, 143, 144, 145, 146, 147, 148, 149, 150, 151, 152, 153, 154, 155, 156, 157, 158, 159,\n",
       "       160, 161, 162, 163, 164, 165, 166, 167, 168, 169, 170, 171, 172, 173, 174, 175, 176, 177, 178, 179,\n",
       "       180, 181, 182, 183, 184, 185, 186, 187, 188, 189, 190, 191, 192, 193, 194, 195, 196, 197, 198, 199,\n",
       "       200, 201, 202, 203, 204, 205, 206, 207, 208, 209, 210, 211, 212, 213, 214, 215, 216, 217, 218, 219,\n",
       "       220, 221, 222, 223, 224, 225, 226, 227, 228, 229, 230, 231, 232, 233, 234, 235, 236, 237, 238, 239,\n",
       "       240, 241, 242, 243, 244, 245, 246, 247, 248, 249, 250, 251, 252, 253, 254, 255, 256, 257, 258, 259,\n",
       "       260, 261, 262, 263, 264, 265, 266, 267, 268, 269, 270, 271, 272, 273, 274, 275, 276, 277, 278, 279,\n",
       "       280, 281, 282, 283, 284, 285, 286, 287, 288, 289, 290, 291, 292, 293, 294, 295, 296, 297, 298, 299,\n",
       "       300, 301, 302, 303, 304, 305, 306, 307, 308, 309, 310, 311, 312, 313, 314, 315, 316, 317, 318, 319,\n",
       "       320, 321, 322, 323, 324, 325, 326, 327, 328, 329, 330, 331, 332, 333, 334, 335, 336, 337, 338, 339,\n",
       "       340, 341, 342, 343, 344, 345, 346, 347, 348, 349, 350, 351, 352, 353, 354, 355, 356, 357, 358, 359,\n",
       "       360, 361, 362, 363, 364, 365, 366, 367, 368, 369, 370, 371, 372, 373, 374, 375, 376, 377, 378, 379,\n",
       "       380, 381, 382, 383, 384, 385, 386, 387, 388, 389, 390, 391, 392, 393, 394, 395, 396, 397, 398, 399,\n",
       "       400, 401, 402, 403, 404, 405, 406, 407, 408, 409, 410, 411, 412, 413, 414, 415, 416, 417, 418, 419,\n",
       "       420, 421, 422, 423, 424, 425, 426, 427, 428, 429, 430, 431, 432, 433, 434, 435, 436, 437, 438, 439,\n",
       "       440, 441, 442, 443, 444, 445, 446, 447, 448, 449, 450, 451, 452, 453, 454, 455, 456, 457, 458, 459,\n",
       "       460, 461, 462, 463, 464, 465, 466, 467, 468, 469, 470, 471, 472, 473, 474, 475, 476, 477, 478, 479,\n",
       "       480, 481, 482, 483, 484, 485, 486, 487, 488, 489, 490, 491, 492, 493, 494, 495, 496, 497, 498, 499,\n",
       "       500, 501, 502, 503, 504, 505, 506, 507, 508, 509, 510, 511, 512, 513, 514, 515, 516, 517, 518, 519,\n",
       "       520, 521, 522, 523, 524, 525, 526, 527, 528, 529, 530, 531, 532, 533, 534, 535, 536, 537, 538, 539,\n",
       "       540, 541, 542, 543, 544, 545, 546, 547, 548, 549, 550, 551, 552, 553, 554, 555, 556, 557, 558, 559,\n",
       "       560, 561, 562, 563, 564, 565, 566, 567, 568, 569, 570, 571, 572, 573, 574, 575, 576, 577, 578, 579,\n",
       "       580, 581, 582, 583, 584, 585, 586, 587, 588, 589, 590, 591, 592, 593, 594, 595, 596, 597, 598, 599,\n",
       "       600, 601, 602, 603, 604, 605, 606, 607, 608, 609, 610, 611, 612, 613, 614, 615, 616, 617, 618, 619,\n",
       "       620, 621, 622, 623, 624, 625, 626, 627, 628, 629, 630, 631, 632, 633, 634, 635, 636, 637, 638, 639,\n",
       "       640, 641, 642, 643, 644, 645, 646, 647, 648, 649, 650, 651, 652, 653, 654, 655, 656, 657, 658, 659,\n",
       "       660, 661, 662, 663, 664, 665, 666, 667, 668, 669, 670, 671, 672, 673, 674, 675, 676, 677, 678, 679,\n",
       "       680, 681, 682, 683, 684, 685, 686, 687, 688, 689, 690, 691, 692, 693, 694, 695, 696, 697, 698, 699,\n",
       "       700, 701, 702, 703, 704, 705, 706, 707, 708, 709, 710, 711, 712, 713, 714, 715, 716, 717, 718, 719,\n",
       "       720, 721, 722, 723, 724, 725, 726, 727, 728, 729, 730, 731, 732, 733, 734, 735, 736, 737, 738, 739,\n",
       "       740, 741, 742, 743, 744, 745, 746, 747, 748, 749, 750, 751, 752, 753, 754, 755, 756, 757, 758, 759,\n",
       "       760, 761, 762, 763, 764, 765, 766, 767, 768, 769, 770, 771, 772, 773, 774, 775, 776, 777, 778, 779,\n",
       "       780, 781, 782, 783, 784, 785, 786, 787, 788, 789, 790, 791, 792, 793, 794, 795, 796, 797, 798, 799,\n",
       "       800, 801, 802, 803, 804, 805, 806, 807, 808, 809, 810, 811, 812, 813, 814, 815, 816, 817, 818, 819,\n",
       "       820, 821, 822, 823, 824, 825, 826, 827, 828, 829, 830, 831, 832, 833, 834, 835, 836, 837, 838, 839,\n",
       "       840, 841, 842, 843, 844, 845, 846, 847, 848, 849, 850, 851, 852, 853, 854, 855, 856, 857, 858, 859,\n",
       "       860, 861, 862, 863, 864, 865, 866, 867, 868, 869, 870, 871, 872, 873, 874, 875, 876, 877, 878, 879,\n",
       "       880, 881, 882, 883, 884, 885, 886, 887, 888, 889, 890, 891, 892, 893, 894, 895, 896, 897, 898, 899,\n",
       "       900, 901, 902, 903, 904, 905, 906, 907, 908, 909, 910, 911, 912, 913, 914, 915, 916, 917, 918, 919,\n",
       "       920, 921, 922, 923, 924, 925, 926, 927, 928, 929, 930, 931, 932, 933, 934, 935, 936, 937, 938, 939,\n",
       "       940, 941, 942, 943, 944, 945, 946, 947, 948, 949, 950, 951, 952, 953, 954, 955, 956, 957, 958, 959,\n",
       "       960, 961, 962, 963, 964, 965, 966, 967, 968, 969, 970, 971, 972, 973, 974, 975, 976, 977, 978, 979,\n",
       "       980, 981, 982, 983, 984, 985, 986, 987, 988, 989, 990, 991, 992, 993, 994, 995, 996, 997, 998, 999])"
      ]
     },
     "execution_count": 13,
     "metadata": {},
     "output_type": "execute_result"
    }
   ],
   "source": [
    "m.trees[0].idxs"
   ]
  },
  {
   "cell_type": "markdown",
   "metadata": {},
   "source": [
    "## Single Branch"
   ]
  },
  {
   "cell_type": "code",
   "execution_count": 91,
   "metadata": {},
   "outputs": [
    {
     "data": {
      "text/plain": [
       "Index(['YearMade', 'MachineHoursCurrentMeter'], dtype='object')"
      ]
     },
     "execution_count": 91,
     "metadata": {},
     "output_type": "execute_result"
    }
   ],
   "source": [
    "ens = TreeEnsemble(x_sub, y_train, 1, 1000)\n",
    "tree = ens.trees[0]\n",
    "x_samp,y_samp = tree.x, tree.y\n",
    "x_samp.columns\n"
   ]
  },
  {
   "cell_type": "code",
   "execution_count": 92,
   "metadata": {},
   "outputs": [
    {
     "data": {
      "text/plain": [
       "n: 1000; val:10.079014121552744"
      ]
     },
     "execution_count": 92,
     "metadata": {},
     "output_type": "execute_result"
    }
   ],
   "source": [
    "tree"
   ]
  },
  {
   "cell_type": "markdown",
   "metadata": {},
   "source": [
    "**The Scikit learn model to compare our model to**"
   ]
  },
  {
   "cell_type": "code",
   "execution_count": 103,
   "metadata": {},
   "outputs": [
    {
     "data": {
      "image/svg+xml": [
       "<?xml version=\"1.0\" encoding=\"UTF-8\" standalone=\"no\"?>\n",
       "<!DOCTYPE svg PUBLIC \"-//W3C//DTD SVG 1.1//EN\"\n",
       " \"http://www.w3.org/Graphics/SVG/1.1/DTD/svg11.dtd\">\n",
       "<!-- Generated by graphviz version 2.42.3 (20191010.1750)\n",
       " -->\n",
       "<!-- Title: Tree Pages: 1 -->\n",
       "<svg width=\"268pt\" height=\"163pt\"\n",
       " viewBox=\"0.00 0.00 267.86 163.40\" xmlns=\"http://www.w3.org/2000/svg\" xmlns:xlink=\"http://www.w3.org/1999/xlink\">\n",
       "<g id=\"graph0\" class=\"graph\" transform=\"scale(1 1) rotate(0) translate(4 159.4)\">\n",
       "<title>Tree</title>\n",
       "<polygon fill=\"white\" stroke=\"transparent\" points=\"-4,4 -4,-159.4 263.86,-159.4 263.86,4 -4,4\"/>\n",
       "<!-- 0 -->\n",
       "<g id=\"node1\" class=\"node\">\n",
       "<title>0</title>\n",
       "<polygon fill=\"#e99558\" stroke=\"black\" points=\"127.23,-109.92 0.5,-109.92 0.5,-45.92 127.23,-45.92 127.23,-109.92\"/>\n",
       "<text text-anchor=\"start\" x=\"8.43\" y=\"-94.72\" font-family=\"Times,serif\" font-size=\"14.00\">YearMade ≤ 1974.5</text>\n",
       "<text text-anchor=\"start\" x=\"32.89\" y=\"-80.72\" font-family=\"Times,serif\" font-size=\"14.00\">mse = 0.47</text>\n",
       "<text text-anchor=\"start\" x=\"19.86\" y=\"-66.72\" font-family=\"Times,serif\" font-size=\"14.00\">samples = 1000</text>\n",
       "<text text-anchor=\"start\" x=\"25.51\" y=\"-52.72\" font-family=\"Times,serif\" font-size=\"14.00\">value = 10.08</text>\n",
       "</g>\n",
       "<!-- 1 -->\n",
       "<g id=\"node2\" class=\"node\">\n",
       "<title>1</title>\n",
       "<polygon fill=\"#ffffff\" stroke=\"black\" points=\"260.36,-147.92 163.37,-147.92 163.37,-97.92 260.36,-97.92 260.36,-147.92\"/>\n",
       "<text text-anchor=\"start\" x=\"180.89\" y=\"-132.72\" font-family=\"Times,serif\" font-size=\"14.00\">mse = 0.26</text>\n",
       "<text text-anchor=\"start\" x=\"171.36\" y=\"-118.72\" font-family=\"Times,serif\" font-size=\"14.00\">samples = 159</text>\n",
       "<text text-anchor=\"start\" x=\"177.01\" y=\"-104.72\" font-family=\"Times,serif\" font-size=\"14.00\">value = 9.66</text>\n",
       "</g>\n",
       "<!-- 0&#45;&gt;1 -->\n",
       "<g id=\"edge1\" class=\"edge\">\n",
       "<title>0&#45;&gt;1</title>\n",
       "<path fill=\"none\" stroke=\"black\" d=\"M127.63,-97.27C136.18,-99.91 144.93,-102.6 153.38,-105.21\"/>\n",
       "<polygon fill=\"black\" stroke=\"black\" points=\"152.56,-108.62 163.15,-108.22 154.62,-101.93 152.56,-108.62\"/>\n",
       "<text text-anchor=\"middle\" x=\"141.05\" y=\"-115.7\" font-family=\"Times,serif\" font-size=\"14.00\">True</text>\n",
       "</g>\n",
       "<!-- 2 -->\n",
       "<g id=\"node3\" class=\"node\">\n",
       "<title>2</title>\n",
       "<polygon fill=\"#e58139\" stroke=\"black\" points=\"260.36,-57.92 163.37,-57.92 163.37,-7.92 260.36,-7.92 260.36,-57.92\"/>\n",
       "<text text-anchor=\"start\" x=\"180.89\" y=\"-42.72\" font-family=\"Times,serif\" font-size=\"14.00\">mse = 0.47</text>\n",
       "<text text-anchor=\"start\" x=\"171.36\" y=\"-28.72\" font-family=\"Times,serif\" font-size=\"14.00\">samples = 841</text>\n",
       "<text text-anchor=\"start\" x=\"173.51\" y=\"-14.72\" font-family=\"Times,serif\" font-size=\"14.00\">value = 10.16</text>\n",
       "</g>\n",
       "<!-- 0&#45;&gt;2 -->\n",
       "<g id=\"edge2\" class=\"edge\">\n",
       "<title>0&#45;&gt;2</title>\n",
       "<path fill=\"none\" stroke=\"black\" d=\"M127.63,-58.58C136.18,-55.94 144.93,-53.25 153.38,-50.64\"/>\n",
       "<polygon fill=\"black\" stroke=\"black\" points=\"154.62,-53.92 163.15,-47.63 152.56,-47.23 154.62,-53.92\"/>\n",
       "<text text-anchor=\"middle\" x=\"141.05\" y=\"-31.74\" font-family=\"Times,serif\" font-size=\"14.00\">False</text>\n",
       "</g>\n",
       "</g>\n",
       "</svg>\n"
      ],
      "text/plain": [
       "<graphviz.files.Source at 0x14a8a76d8>"
      ]
     },
     "metadata": {},
     "output_type": "display_data"
    }
   ],
   "source": [
    "m = RandomForestRegressor(n_estimators=1, max_depth=1, bootstrap=False)\n",
    "m.fit(x_samp, y_samp)\n",
    "draw_tree(m.estimators_[0], x_samp, precision=2)"
   ]
  },
  {
   "cell_type": "code",
   "execution_count": 97,
   "metadata": {},
   "outputs": [],
   "source": [
    "def find_better_split(self, var_idx):\n",
    "    '''\n",
    "    Find which row of the selected column to split the tree on.\n",
    "    For each row of the selected column, calculate the score (std) \n",
    "    for all the corresponding value of the dependent variable on both\n",
    "    the LHS (<=) or RHS (>) and take the avg of both. Pick the row \n",
    "    that has the lowest score\n",
    "    '''\n",
    "    x,y = self.x.values[self.idxs,var_idx], self.y[self.idxs]\n",
    "\n",
    "    for i in range(self.rows):\n",
    "        lhs = x<=x[i]\n",
    "        rhs = x>x[i]\n",
    "        if rhs.sum()<self.min_leaf or lhs.sum()<self.min_leaf: continue\n",
    "        lhs_std = y[lhs].std()\n",
    "        rhs_std = y[rhs].std()\n",
    "        curr_score = lhs_std*lhs.sum() + rhs_std*rhs.sum()\n",
    "        if curr_score<self.score: \n",
    "            self.var_idx,self.score,self.split = var_idx,curr_score,x[i]"
   ]
  },
  {
   "cell_type": "markdown",
   "metadata": {},
   "source": [
    "### Speeding things up\n",
    "- computational complexity of find_better_split() is n^2"
   ]
  },
  {
   "cell_type": "code",
   "execution_count": 98,
   "metadata": {},
   "outputs": [],
   "source": [
    "tree = TreeEnsemble(x_sub,y_train,1,1000).trees[0]"
   ]
  },
  {
   "cell_type": "code",
   "execution_count": 99,
   "metadata": {},
   "outputs": [
    {
     "name": "stdout",
     "output_type": "stream",
     "text": [
      "93.6 ms ± 6.6 ms per loop (mean ± std. dev. of 7 runs, 10 loops each)\n"
     ]
    },
    {
     "data": {
      "text/plain": [
       "n: 1000; val:10.079014121552744; score:681.0184057251435; split:3744.0; var:MachineHoursCurrentMeter"
      ]
     },
     "execution_count": 99,
     "metadata": {},
     "output_type": "execute_result"
    }
   ],
   "source": [
    "%timeit find_better_split(tree,1)\n",
    "tree"
   ]
  },
  {
   "cell_type": "code",
   "execution_count": 112,
   "metadata": {},
   "outputs": [],
   "source": [
    "def std_agg(cnt, s1, s2): return math.sqrt((s2/cnt) - (s1/cnt)**2)\n",
    "\n",
    "def find_better_split(self, var_idx):\n",
    "    x,y = self.x.values[self.idxs,var_idx], self.y[self.idxs]\n",
    "    \n",
    "    sort_idx = np.argsort(x)\n",
    "    sort_y,sort_x = y[sort_idx], x[sort_idx]\n",
    "    rhs_cnt,rhs_sum,rhs_sum2 = self.rows, sort_y.sum(), (sort_y**2).sum()\n",
    "    lhs_cnt,lhs_sum,lhs_sum2 = 0,0.,0.\n",
    "\n",
    "    for i in range(0,self.rows-self.min_leaf):\n",
    "        xi,yi = sort_x[i],sort_y[i]\n",
    "        lhs_cnt += 1; rhs_cnt -= 1\n",
    "        lhs_sum += yi; rhs_sum -= yi\n",
    "        lhs_sum2 += yi**2; rhs_sum2 -= yi**2\n",
    "        if i<self.min_leaf-1 or xi==sort_x[i+1]:\n",
    "            continue\n",
    "            \n",
    "        lhs_std = std_agg(lhs_cnt, lhs_sum, lhs_sum2)\n",
    "        rhs_std = std_agg(rhs_cnt, rhs_sum, rhs_sum2)\n",
    "        curr_score = lhs_std*lhs_cnt + rhs_std*rhs_cnt\n",
    "        if curr_score<self.score: \n",
    "            self.var_idx,self.score,self.split = var_idx,curr_score,xi"
   ]
  },
  {
   "cell_type": "code",
   "execution_count": 113,
   "metadata": {
    "jupyter": {
     "source_hidden": true
    }
   },
   "outputs": [
    {
     "name": "stdout",
     "output_type": "stream",
     "text": [
      "CPU times: user 3.89 ms, sys: 567 µs, total: 4.46 ms\n",
      "Wall time: 4.3 ms\n"
     ]
    },
    {
     "data": {
      "text/plain": [
       "n: 1000; val:10.079014121552744; score:681.0184057251353; split:3744.0; var:MachineHoursCurrentMeter"
      ]
     },
     "execution_count": 113,
     "metadata": {},
     "output_type": "execute_result"
    }
   ],
   "source": [
    "%time find_better_split(tree,1)\n",
    "tree"
   ]
  },
  {
   "cell_type": "markdown",
   "metadata": {},
   "source": [
    "**can add methods dynamically**"
   ]
  },
  {
   "cell_type": "code",
   "execution_count": 114,
   "metadata": {},
   "outputs": [],
   "source": [
    "# adding the method defined above to the DecisionTree method\n",
    "DecisionTree.find_better_split = find_better_split"
   ]
  },
  {
   "cell_type": "code",
   "execution_count": 115,
   "metadata": {},
   "outputs": [
    {
     "data": {
      "text/plain": [
       "n: 1000; val:10.079014121552744; score:658.5510186055565; split:1974.0; var:YearMade"
      ]
     },
     "execution_count": 115,
     "metadata": {},
     "output_type": "execute_result"
    }
   ],
   "source": [
    "tree = TreeEnsemble(x_sub,y_train,1,1000).trees[0]; tree"
   ]
  },
  {
   "cell_type": "markdown",
   "metadata": {},
   "source": [
    "### Full Single Tree"
   ]
  },
  {
   "cell_type": "code",
   "execution_count": 133,
   "metadata": {},
   "outputs": [
    {
     "data": {
      "image/svg+xml": [
       "<?xml version=\"1.0\" encoding=\"UTF-8\" standalone=\"no\"?>\n",
       "<!DOCTYPE svg PUBLIC \"-//W3C//DTD SVG 1.1//EN\"\n",
       " \"http://www.w3.org/Graphics/SVG/1.1/DTD/svg11.dtd\">\n",
       "<!-- Generated by graphviz version 2.42.3 (20191010.1750)\n",
       " -->\n",
       "<!-- Title: Tree Pages: 1 -->\n",
       "<svg width=\"532pt\" height=\"322pt\"\n",
       " viewBox=\"0.00 0.00 532.44 322.40\" xmlns=\"http://www.w3.org/2000/svg\" xmlns:xlink=\"http://www.w3.org/1999/xlink\">\n",
       "<g id=\"graph0\" class=\"graph\" transform=\"scale(1 1) rotate(0) translate(4 318.4)\">\n",
       "<title>Tree</title>\n",
       "<polygon fill=\"white\" stroke=\"transparent\" points=\"-4,4 -4,-318.4 528.44,-318.4 528.44,4 -4,4\"/>\n",
       "<!-- 0 -->\n",
       "<g id=\"node1\" class=\"node\">\n",
       "<title>0</title>\n",
       "<polygon fill=\"#f4c8a8\" stroke=\"black\" points=\"126.81,-190.58 0.08,-190.58 0.08,-126.58 126.81,-126.58 126.81,-190.58\"/>\n",
       "<text text-anchor=\"start\" x=\"8.01\" y=\"-175.38\" font-family=\"Times,serif\" font-size=\"14.00\">YearMade ≤ 1974.5</text>\n",
       "<text text-anchor=\"start\" x=\"32.47\" y=\"-161.38\" font-family=\"Times,serif\" font-size=\"14.00\">mse = 0.47</text>\n",
       "<text text-anchor=\"start\" x=\"19.44\" y=\"-147.38\" font-family=\"Times,serif\" font-size=\"14.00\">samples = 1000</text>\n",
       "<text text-anchor=\"start\" x=\"25.08\" y=\"-133.38\" font-family=\"Times,serif\" font-size=\"14.00\">value = 10.08</text>\n",
       "</g>\n",
       "<!-- 1 -->\n",
       "<g id=\"node2\" class=\"node\">\n",
       "<title>1</title>\n",
       "<polygon fill=\"#fefaf7\" stroke=\"black\" points=\"391.52,-241.58 163.36,-241.58 163.36,-177.58 391.52,-177.58 391.52,-241.58\"/>\n",
       "<text text-anchor=\"start\" x=\"171.15\" y=\"-226.38\" font-family=\"Times,serif\" font-size=\"14.00\">MachineHoursCurrentMeter ≤ 2956.5</text>\n",
       "<text text-anchor=\"start\" x=\"246.47\" y=\"-212.38\" font-family=\"Times,serif\" font-size=\"14.00\">mse = 0.26</text>\n",
       "<text text-anchor=\"start\" x=\"236.94\" y=\"-198.38\" font-family=\"Times,serif\" font-size=\"14.00\">samples = 159</text>\n",
       "<text text-anchor=\"start\" x=\"242.58\" y=\"-184.38\" font-family=\"Times,serif\" font-size=\"14.00\">value = 9.66</text>\n",
       "</g>\n",
       "<!-- 0&#45;&gt;1 -->\n",
       "<g id=\"edge1\" class=\"edge\">\n",
       "<title>0&#45;&gt;1</title>\n",
       "<path fill=\"none\" stroke=\"black\" d=\"M126.9,-173.61C135.33,-175.64 144.21,-177.77 153.26,-179.95\"/>\n",
       "<polygon fill=\"black\" stroke=\"black\" points=\"152.59,-183.39 163.13,-182.32 154.23,-176.58 152.59,-183.39\"/>\n",
       "<text text-anchor=\"middle\" x=\"141.81\" y=\"-191.18\" font-family=\"Times,serif\" font-size=\"14.00\">True</text>\n",
       "</g>\n",
       "<!-- 4 -->\n",
       "<g id=\"node5\" class=\"node\">\n",
       "<title>4</title>\n",
       "<polygon fill=\"#f2be99\" stroke=\"black\" points=\"340.81,-140.58 214.08,-140.58 214.08,-76.58 340.81,-76.58 340.81,-140.58\"/>\n",
       "<text text-anchor=\"start\" x=\"222.01\" y=\"-125.38\" font-family=\"Times,serif\" font-size=\"14.00\">YearMade ≤ 2005.5</text>\n",
       "<text text-anchor=\"start\" x=\"246.47\" y=\"-111.38\" font-family=\"Times,serif\" font-size=\"14.00\">mse = 0.47</text>\n",
       "<text text-anchor=\"start\" x=\"236.94\" y=\"-97.38\" font-family=\"Times,serif\" font-size=\"14.00\">samples = 841</text>\n",
       "<text text-anchor=\"start\" x=\"239.08\" y=\"-83.38\" font-family=\"Times,serif\" font-size=\"14.00\">value = 10.16</text>\n",
       "</g>\n",
       "<!-- 0&#45;&gt;4 -->\n",
       "<g id=\"edge4\" class=\"edge\">\n",
       "<title>0&#45;&gt;4</title>\n",
       "<path fill=\"none\" stroke=\"black\" d=\"M126.9,-143.85C151.16,-138.13 179.11,-131.54 204.22,-125.62\"/>\n",
       "<polygon fill=\"black\" stroke=\"black\" points=\"205.13,-129 214.06,-123.3 203.53,-122.18 205.13,-129\"/>\n",
       "<text text-anchor=\"middle\" x=\"192.8\" y=\"-105.95\" font-family=\"Times,serif\" font-size=\"14.00\">False</text>\n",
       "</g>\n",
       "<!-- 2 -->\n",
       "<g id=\"node3\" class=\"node\">\n",
       "<title>2</title>\n",
       "<polygon fill=\"#ffffff\" stroke=\"black\" points=\"524.94,-308.58 427.94,-308.58 427.94,-258.58 524.94,-258.58 524.94,-308.58\"/>\n",
       "<text text-anchor=\"start\" x=\"445.47\" y=\"-293.38\" font-family=\"Times,serif\" font-size=\"14.00\">mse = 0.23</text>\n",
       "<text text-anchor=\"start\" x=\"435.94\" y=\"-279.38\" font-family=\"Times,serif\" font-size=\"14.00\">samples = 150</text>\n",
       "<text text-anchor=\"start\" x=\"441.58\" y=\"-265.38\" font-family=\"Times,serif\" font-size=\"14.00\">value = 9.62</text>\n",
       "</g>\n",
       "<!-- 1&#45;&gt;2 -->\n",
       "<g id=\"edge2\" class=\"edge\">\n",
       "<title>1&#45;&gt;2</title>\n",
       "<path fill=\"none\" stroke=\"black\" d=\"M363.7,-241.61C382.04,-248.5 401.01,-255.62 417.99,-262\"/>\n",
       "<polygon fill=\"black\" stroke=\"black\" points=\"417.15,-265.43 427.74,-265.67 419.61,-258.87 417.15,-265.43\"/>\n",
       "</g>\n",
       "<!-- 3 -->\n",
       "<g id=\"node4\" class=\"node\">\n",
       "<title>3</title>\n",
       "<polygon fill=\"#eda774\" stroke=\"black\" points=\"522.65,-225.58 430.23,-225.58 430.23,-175.58 522.65,-175.58 522.65,-225.58\"/>\n",
       "<text text-anchor=\"start\" x=\"445.47\" y=\"-210.38\" font-family=\"Times,serif\" font-size=\"14.00\">mse = 0.23</text>\n",
       "<text text-anchor=\"start\" x=\"442.94\" y=\"-196.38\" font-family=\"Times,serif\" font-size=\"14.00\">samples = 9</text>\n",
       "<text text-anchor=\"start\" x=\"438.08\" y=\"-182.38\" font-family=\"Times,serif\" font-size=\"14.00\">value = 10.35</text>\n",
       "</g>\n",
       "<!-- 1&#45;&gt;3 -->\n",
       "<g id=\"edge3\" class=\"edge\">\n",
       "<title>1&#45;&gt;3</title>\n",
       "<path fill=\"none\" stroke=\"black\" d=\"M391.61,-204.41C401.35,-203.97 410.89,-203.53 419.84,-203.12\"/>\n",
       "<polygon fill=\"black\" stroke=\"black\" points=\"420.23,-206.61 430.06,-202.66 419.91,-199.62 420.23,-206.61\"/>\n",
       "</g>\n",
       "<!-- 5 -->\n",
       "<g id=\"node6\" class=\"node\">\n",
       "<title>5</title>\n",
       "<polygon fill=\"#f2c09d\" stroke=\"black\" points=\"524.94,-138.58 427.94,-138.58 427.94,-88.58 524.94,-88.58 524.94,-138.58\"/>\n",
       "<text text-anchor=\"start\" x=\"445.47\" y=\"-123.38\" font-family=\"Times,serif\" font-size=\"14.00\">mse = 0.46</text>\n",
       "<text text-anchor=\"start\" x=\"435.94\" y=\"-109.38\" font-family=\"Times,serif\" font-size=\"14.00\">samples = 813</text>\n",
       "<text text-anchor=\"start\" x=\"438.08\" y=\"-95.38\" font-family=\"Times,serif\" font-size=\"14.00\">value = 10.14</text>\n",
       "</g>\n",
       "<!-- 4&#45;&gt;5 -->\n",
       "<g id=\"edge5\" class=\"edge\">\n",
       "<title>4&#45;&gt;5</title>\n",
       "<path fill=\"none\" stroke=\"black\" d=\"M341.04,-110.17C365.59,-110.8 393.58,-111.51 417.64,-112.12\"/>\n",
       "<polygon fill=\"black\" stroke=\"black\" points=\"417.61,-115.62 427.69,-112.37 417.79,-108.62 417.61,-115.62\"/>\n",
       "</g>\n",
       "<!-- 6 -->\n",
       "<g id=\"node7\" class=\"node\">\n",
       "<title>6</title>\n",
       "<polygon fill=\"#e58139\" stroke=\"black\" points=\"522.65,-55.58 430.23,-55.58 430.23,-5.58 522.65,-5.58 522.65,-55.58\"/>\n",
       "<text text-anchor=\"start\" x=\"445.47\" y=\"-40.38\" font-family=\"Times,serif\" font-size=\"14.00\">mse = 0.38</text>\n",
       "<text text-anchor=\"start\" x=\"439.44\" y=\"-26.38\" font-family=\"Times,serif\" font-size=\"14.00\">samples = 28</text>\n",
       "<text text-anchor=\"start\" x=\"438.08\" y=\"-12.38\" font-family=\"Times,serif\" font-size=\"14.00\">value = 10.67</text>\n",
       "</g>\n",
       "<!-- 4&#45;&gt;6 -->\n",
       "<g id=\"edge6\" class=\"edge\">\n",
       "<title>4&#45;&gt;6</title>\n",
       "<path fill=\"none\" stroke=\"black\" d=\"M341.04,-83.8C366.61,-73.68 395.9,-62.08 420.61,-52.29\"/>\n",
       "<polygon fill=\"black\" stroke=\"black\" points=\"422.17,-55.44 430.18,-48.5 419.6,-48.93 422.17,-55.44\"/>\n",
       "</g>\n",
       "</g>\n",
       "</svg>\n"
      ],
      "text/plain": [
       "<graphviz.files.Source at 0x14aa21fd0>"
      ]
     },
     "metadata": {},
     "output_type": "display_data"
    }
   ],
   "source": [
    "m = RandomForestRegressor(n_estimators=1, max_depth=2, bootstrap=False)\n",
    "m.fit(x_samp, y_samp)\n",
    "draw_tree(m.estimators_[0], x_samp, precision=2)"
   ]
  },
  {
   "cell_type": "code",
   "execution_count": 134,
   "metadata": {},
   "outputs": [],
   "source": [
    "def find_varsplit(self):\n",
    "    '''\n",
    "    Create more decision trees\n",
    "    '''\n",
    "    for i in range(self.cols): self.find_better_split(i)\n",
    "    if self.is_leaf: return\n",
    "    x = self.split_col\n",
    "    lhs = np.nonzero(x<=self.split)[0]\n",
    "    rhs = np.nonzero(x>self.split)[0]\n",
    "    self.lhs = DecisionTree(self.x, self.y, self.idxs[lhs])\n",
    "    self.rhs = DecisionTree(self.x, self.y, self.idxs[rhs])"
   ]
  },
  {
   "cell_type": "code",
   "execution_count": 135,
   "metadata": {},
   "outputs": [],
   "source": [
    "DecisionTree.find_varsplit = find_varsplit"
   ]
  },
  {
   "cell_type": "code",
   "execution_count": 136,
   "metadata": {},
   "outputs": [
    {
     "data": {
      "text/plain": [
       "n: 1000; val:10.079014121552744; score:658.5510186055565; split:1974.0; var:YearMade"
      ]
     },
     "execution_count": 136,
     "metadata": {},
     "output_type": "execute_result"
    }
   ],
   "source": [
    "tree = TreeEnsemble(x_sub,y_train,1,1000).trees[0]; tree"
   ]
  },
  {
   "cell_type": "code",
   "execution_count": 137,
   "metadata": {},
   "outputs": [
    {
     "data": {
      "text/plain": [
       "n: 159; val:9.660892662981706; score:76.82696888346362; split:2800.0; var:MachineHoursCurrentMeter"
      ]
     },
     "execution_count": 137,
     "metadata": {},
     "output_type": "execute_result"
    }
   ],
   "source": [
    "tree.lhs"
   ]
  },
  {
   "cell_type": "code",
   "execution_count": 138,
   "metadata": {},
   "outputs": [
    {
     "data": {
      "text/plain": [
       "n: 841; val:10.158064432982941; score:571.4803525045031; split:2005.0; var:YearMade"
      ]
     },
     "execution_count": 138,
     "metadata": {},
     "output_type": "execute_result"
    }
   ],
   "source": [
    "tree.rhs"
   ]
  },
  {
   "cell_type": "code",
   "execution_count": 139,
   "metadata": {},
   "outputs": [
    {
     "data": {
      "text/plain": [
       "n: 150; val:9.619280538108496; score:71.15906938383463; split:1000.0; var:YearMade"
      ]
     },
     "execution_count": 139,
     "metadata": {},
     "output_type": "execute_result"
    }
   ],
   "source": [
    "tree.lhs.lhs"
   ]
  },
  {
   "cell_type": "code",
   "execution_count": 140,
   "metadata": {},
   "outputs": [
    {
     "data": {
      "text/plain": [
       "n: 28; val:10.669849650935848; score:16.460871194578985; split:895.0; var:MachineHoursCurrentMeter"
      ]
     },
     "execution_count": 140,
     "metadata": {},
     "output_type": "execute_result"
    }
   ],
   "source": [
    "tree.rhs.rhs"
   ]
  },
  {
   "cell_type": "markdown",
   "metadata": {},
   "source": [
    "### Predictions"
   ]
  },
  {
   "cell_type": "code",
   "execution_count": 141,
   "metadata": {},
   "outputs": [
    {
     "data": {
      "image/svg+xml": [
       "<?xml version=\"1.0\" encoding=\"UTF-8\" standalone=\"no\"?>\n",
       "<!DOCTYPE svg PUBLIC \"-//W3C//DTD SVG 1.1//EN\"\n",
       " \"http://www.w3.org/Graphics/SVG/1.1/DTD/svg11.dtd\">\n",
       "<!-- Generated by graphviz version 2.42.3 (20191010.1750)\n",
       " -->\n",
       "<!-- Title: Tree Pages: 1 -->\n",
       "<svg width=\"720pt\" height=\"435pt\"\n",
       " viewBox=\"0.00 0.00 720.00 434.59\" xmlns=\"http://www.w3.org/2000/svg\" xmlns:xlink=\"http://www.w3.org/1999/xlink\">\n",
       "<g id=\"graph0\" class=\"graph\" transform=\"scale(1.23 1.23) rotate(0) translate(4 530)\">\n",
       "<title>Tree</title>\n",
       "<polygon fill=\"white\" stroke=\"transparent\" points=\"-4,4 -4,-530 880.69,-530 880.69,4 -4,4\"/>\n",
       "<!-- 0 -->\n",
       "<g id=\"node1\" class=\"node\">\n",
       "<title>0</title>\n",
       "<polygon fill=\"#f3c4a2\" stroke=\"black\" points=\"134.05,-322 7.32,-322 7.32,-258 134.05,-258 134.05,-322\"/>\n",
       "<text text-anchor=\"start\" x=\"15.25\" y=\"-306.8\" font-family=\"Times,serif\" font-size=\"14.00\">YearMade ≤ 1974.5</text>\n",
       "<text text-anchor=\"start\" x=\"39.71\" y=\"-292.8\" font-family=\"Times,serif\" font-size=\"14.00\">mse = 0.47</text>\n",
       "<text text-anchor=\"start\" x=\"26.69\" y=\"-278.8\" font-family=\"Times,serif\" font-size=\"14.00\">samples = 1000</text>\n",
       "<text text-anchor=\"start\" x=\"32.33\" y=\"-264.8\" font-family=\"Times,serif\" font-size=\"14.00\">value = 10.08</text>\n",
       "</g>\n",
       "<!-- 1 -->\n",
       "<g id=\"node2\" class=\"node\">\n",
       "<title>1</title>\n",
       "<polygon fill=\"#f7d9c3\" stroke=\"black\" points=\"421.76,-356 193.61,-356 193.61,-292 421.76,-292 421.76,-356\"/>\n",
       "<text text-anchor=\"start\" x=\"201.4\" y=\"-340.8\" font-family=\"Times,serif\" font-size=\"14.00\">MachineHoursCurrentMeter ≤ 2956.5</text>\n",
       "<text text-anchor=\"start\" x=\"276.71\" y=\"-326.8\" font-family=\"Times,serif\" font-size=\"14.00\">mse = 0.26</text>\n",
       "<text text-anchor=\"start\" x=\"267.19\" y=\"-312.8\" font-family=\"Times,serif\" font-size=\"14.00\">samples = 159</text>\n",
       "<text text-anchor=\"start\" x=\"272.83\" y=\"-298.8\" font-family=\"Times,serif\" font-size=\"14.00\">value = 9.66</text>\n",
       "</g>\n",
       "<!-- 0&#45;&gt;1 -->\n",
       "<g id=\"edge1\" class=\"edge\">\n",
       "<title>0&#45;&gt;1</title>\n",
       "<path fill=\"none\" stroke=\"black\" d=\"M134.35,-299.07C149.58,-301.27 166.4,-303.7 183.38,-306.16\"/>\n",
       "<polygon fill=\"black\" stroke=\"black\" points=\"182.98,-309.64 193.38,-307.61 183.98,-302.71 182.98,-309.64\"/>\n",
       "<text text-anchor=\"middle\" x=\"173.35\" y=\"-318.37\" font-family=\"Times,serif\" font-size=\"14.00\">True</text>\n",
       "</g>\n",
       "<!-- 8 -->\n",
       "<g id=\"node9\" class=\"node\">\n",
       "<title>8</title>\n",
       "<polygon fill=\"#f2c09b\" stroke=\"black\" points=\"371.05,-234 244.32,-234 244.32,-170 371.05,-170 371.05,-234\"/>\n",
       "<text text-anchor=\"start\" x=\"252.25\" y=\"-218.8\" font-family=\"Times,serif\" font-size=\"14.00\">YearMade ≤ 2005.5</text>\n",
       "<text text-anchor=\"start\" x=\"276.71\" y=\"-204.8\" font-family=\"Times,serif\" font-size=\"14.00\">mse = 0.47</text>\n",
       "<text text-anchor=\"start\" x=\"267.19\" y=\"-190.8\" font-family=\"Times,serif\" font-size=\"14.00\">samples = 841</text>\n",
       "<text text-anchor=\"start\" x=\"269.33\" y=\"-176.8\" font-family=\"Times,serif\" font-size=\"14.00\">value = 10.16</text>\n",
       "</g>\n",
       "<!-- 0&#45;&gt;8 -->\n",
       "<g id=\"edge8\" class=\"edge\">\n",
       "<title>0&#45;&gt;8</title>\n",
       "<path fill=\"none\" stroke=\"black\" d=\"M134.35,-266.53C165.16,-255 202.45,-241.03 234.45,-229.05\"/>\n",
       "<polygon fill=\"black\" stroke=\"black\" points=\"236.06,-232.19 244.19,-225.4 233.6,-225.63 236.06,-232.19\"/>\n",
       "<text text-anchor=\"middle\" x=\"221.44\" y=\"-210.85\" font-family=\"Times,serif\" font-size=\"14.00\">False</text>\n",
       "</g>\n",
       "<!-- 2 -->\n",
       "<g id=\"node3\" class=\"node\">\n",
       "<title>2</title>\n",
       "<polygon fill=\"#f8dbc7\" stroke=\"black\" points=\"715.76,-465 487.61,-465 487.61,-401 715.76,-401 715.76,-465\"/>\n",
       "<text text-anchor=\"start\" x=\"495.4\" y=\"-449.8\" font-family=\"Times,serif\" font-size=\"14.00\">MachineHoursCurrentMeter ≤ 2497.5</text>\n",
       "<text text-anchor=\"start\" x=\"570.71\" y=\"-435.8\" font-family=\"Times,serif\" font-size=\"14.00\">mse = 0.23</text>\n",
       "<text text-anchor=\"start\" x=\"561.19\" y=\"-421.8\" font-family=\"Times,serif\" font-size=\"14.00\">samples = 150</text>\n",
       "<text text-anchor=\"start\" x=\"566.83\" y=\"-407.8\" font-family=\"Times,serif\" font-size=\"14.00\">value = 9.62</text>\n",
       "</g>\n",
       "<!-- 1&#45;&gt;2 -->\n",
       "<g id=\"edge2\" class=\"edge\">\n",
       "<title>1&#45;&gt;2</title>\n",
       "<path fill=\"none\" stroke=\"black\" d=\"M394.72,-356.11C429.46,-369.08 469.7,-384.1 505.33,-397.4\"/>\n",
       "<polygon fill=\"black\" stroke=\"black\" points=\"504.18,-400.71 514.77,-400.93 506.62,-394.15 504.18,-400.71\"/>\n",
       "</g>\n",
       "<!-- 5 -->\n",
       "<g id=\"node6\" class=\"node\">\n",
       "<title>5</title>\n",
       "<polygon fill=\"#f0b68c\" stroke=\"black\" points=\"715.76,-356 487.61,-356 487.61,-292 715.76,-292 715.76,-356\"/>\n",
       "<text text-anchor=\"start\" x=\"495.4\" y=\"-340.8\" font-family=\"Times,serif\" font-size=\"14.00\">MachineHoursCurrentMeter ≤ 3544.5</text>\n",
       "<text text-anchor=\"start\" x=\"570.71\" y=\"-326.8\" font-family=\"Times,serif\" font-size=\"14.00\">mse = 0.23</text>\n",
       "<text text-anchor=\"start\" x=\"568.19\" y=\"-312.8\" font-family=\"Times,serif\" font-size=\"14.00\">samples = 9</text>\n",
       "<text text-anchor=\"start\" x=\"563.33\" y=\"-298.8\" font-family=\"Times,serif\" font-size=\"14.00\">value = 10.35</text>\n",
       "</g>\n",
       "<!-- 1&#45;&gt;5 -->\n",
       "<g id=\"edge5\" class=\"edge\">\n",
       "<title>1&#45;&gt;5</title>\n",
       "<path fill=\"none\" stroke=\"black\" d=\"M422,-324C440.13,-324 458.96,-324 477.3,-324\"/>\n",
       "<polygon fill=\"black\" stroke=\"black\" points=\"477.44,-327.5 487.44,-324 477.44,-320.5 477.44,-327.5\"/>\n",
       "</g>\n",
       "<!-- 3 -->\n",
       "<g id=\"node4\" class=\"node\">\n",
       "<title>3</title>\n",
       "<polygon fill=\"#f8dbc6\" stroke=\"black\" points=\"871.19,-526 774.19,-526 774.19,-476 871.19,-476 871.19,-526\"/>\n",
       "<text text-anchor=\"start\" x=\"791.71\" y=\"-510.8\" font-family=\"Times,serif\" font-size=\"14.00\">mse = 0.23</text>\n",
       "<text text-anchor=\"start\" x=\"782.19\" y=\"-496.8\" font-family=\"Times,serif\" font-size=\"14.00\">samples = 148</text>\n",
       "<text text-anchor=\"start\" x=\"787.83\" y=\"-482.8\" font-family=\"Times,serif\" font-size=\"14.00\">value = 9.63</text>\n",
       "</g>\n",
       "<!-- 2&#45;&gt;3 -->\n",
       "<g id=\"edge3\" class=\"edge\">\n",
       "<title>2&#45;&gt;3</title>\n",
       "<path fill=\"none\" stroke=\"black\" d=\"M705.77,-465.01C725.9,-471.26 746.32,-477.6 764.29,-483.18\"/>\n",
       "<polygon fill=\"black\" stroke=\"black\" points=\"763.42,-486.57 774.01,-486.19 765.49,-479.89 763.42,-486.57\"/>\n",
       "</g>\n",
       "<!-- 4 -->\n",
       "<g id=\"node5\" class=\"node\">\n",
       "<title>4</title>\n",
       "<polygon fill=\"#ffffff\" stroke=\"black\" points=\"865.4,-458 779.97,-458 779.97,-408 865.4,-408 865.4,-458\"/>\n",
       "<text text-anchor=\"start\" x=\"795.21\" y=\"-442.8\" font-family=\"Times,serif\" font-size=\"14.00\">mse = 0.0</text>\n",
       "<text text-anchor=\"start\" x=\"789.19\" y=\"-428.8\" font-family=\"Times,serif\" font-size=\"14.00\">samples = 2</text>\n",
       "<text text-anchor=\"start\" x=\"787.83\" y=\"-414.8\" font-family=\"Times,serif\" font-size=\"14.00\">value = 8.92</text>\n",
       "</g>\n",
       "<!-- 2&#45;&gt;4 -->\n",
       "<g id=\"edge4\" class=\"edge\">\n",
       "<title>2&#45;&gt;4</title>\n",
       "<path fill=\"none\" stroke=\"black\" d=\"M716.04,-433C734.79,-433 753.39,-433 769.63,-433\"/>\n",
       "<polygon fill=\"black\" stroke=\"black\" points=\"769.95,-436.5 779.95,-433 769.95,-429.5 769.95,-436.5\"/>\n",
       "</g>\n",
       "<!-- 6 -->\n",
       "<g id=\"node7\" class=\"node\">\n",
       "<title>6</title>\n",
       "<polygon fill=\"#eb9c63\" stroke=\"black\" points=\"868.9,-390 776.47,-390 776.47,-340 868.9,-340 868.9,-390\"/>\n",
       "<text text-anchor=\"start\" x=\"795.21\" y=\"-374.8\" font-family=\"Times,serif\" font-size=\"14.00\">mse = 0.0</text>\n",
       "<text text-anchor=\"start\" x=\"789.19\" y=\"-360.8\" font-family=\"Times,serif\" font-size=\"14.00\">samples = 1</text>\n",
       "<text text-anchor=\"start\" x=\"784.33\" y=\"-346.8\" font-family=\"Times,serif\" font-size=\"14.00\">value = 10.86</text>\n",
       "</g>\n",
       "<!-- 5&#45;&gt;6 -->\n",
       "<g id=\"edge6\" class=\"edge\">\n",
       "<title>5&#45;&gt;6</title>\n",
       "<path fill=\"none\" stroke=\"black\" d=\"M716.04,-345.22C733.59,-348.51 751.01,-351.77 766.49,-354.67\"/>\n",
       "<polygon fill=\"black\" stroke=\"black\" points=\"765.89,-358.11 776.36,-356.51 767.18,-351.23 765.89,-358.11\"/>\n",
       "</g>\n",
       "<!-- 7 -->\n",
       "<g id=\"node8\" class=\"node\">\n",
       "<title>7</title>\n",
       "<polygon fill=\"#f1b991\" stroke=\"black\" points=\"868.9,-322 776.47,-322 776.47,-272 868.9,-272 868.9,-322\"/>\n",
       "<text text-anchor=\"start\" x=\"791.71\" y=\"-306.8\" font-family=\"Times,serif\" font-size=\"14.00\">mse = 0.22</text>\n",
       "<text text-anchor=\"start\" x=\"789.19\" y=\"-292.8\" font-family=\"Times,serif\" font-size=\"14.00\">samples = 8</text>\n",
       "<text text-anchor=\"start\" x=\"784.33\" y=\"-278.8\" font-family=\"Times,serif\" font-size=\"14.00\">value = 10.29</text>\n",
       "</g>\n",
       "<!-- 5&#45;&gt;7 -->\n",
       "<g id=\"edge7\" class=\"edge\">\n",
       "<title>5&#45;&gt;7</title>\n",
       "<path fill=\"none\" stroke=\"black\" d=\"M716.04,-310.03C733.42,-307.88 750.67,-305.75 766.04,-303.86\"/>\n",
       "<polygon fill=\"black\" stroke=\"black\" points=\"766.87,-307.29 776.36,-302.59 766.01,-300.34 766.87,-307.29\"/>\n",
       "</g>\n",
       "<!-- 9 -->\n",
       "<g id=\"node10\" class=\"node\">\n",
       "<title>9</title>\n",
       "<polygon fill=\"#f2c19d\" stroke=\"black\" points=\"665.05,-234 538.32,-234 538.32,-170 665.05,-170 665.05,-234\"/>\n",
       "<text text-anchor=\"start\" x=\"546.25\" y=\"-218.8\" font-family=\"Times,serif\" font-size=\"14.00\">YearMade ≤ 1994.5</text>\n",
       "<text text-anchor=\"start\" x=\"570.71\" y=\"-204.8\" font-family=\"Times,serif\" font-size=\"14.00\">mse = 0.46</text>\n",
       "<text text-anchor=\"start\" x=\"561.19\" y=\"-190.8\" font-family=\"Times,serif\" font-size=\"14.00\">samples = 813</text>\n",
       "<text text-anchor=\"start\" x=\"563.33\" y=\"-176.8\" font-family=\"Times,serif\" font-size=\"14.00\">value = 10.14</text>\n",
       "</g>\n",
       "<!-- 8&#45;&gt;9 -->\n",
       "<g id=\"edge9\" class=\"edge\">\n",
       "<title>8&#45;&gt;9</title>\n",
       "<path fill=\"none\" stroke=\"black\" d=\"M371.33,-202C417.32,-202 479.92,-202 528.1,-202\"/>\n",
       "<polygon fill=\"black\" stroke=\"black\" points=\"528.15,-205.5 538.15,-202 528.15,-198.5 528.15,-205.5\"/>\n",
       "</g>\n",
       "<!-- 12 -->\n",
       "<g id=\"node13\" class=\"node\">\n",
       "<title>12</title>\n",
       "<polygon fill=\"#eda572\" stroke=\"black\" points=\"715.76,-125 487.61,-125 487.61,-61 715.76,-61 715.76,-125\"/>\n",
       "<text text-anchor=\"start\" x=\"495.4\" y=\"-109.8\" font-family=\"Times,serif\" font-size=\"14.00\">MachineHoursCurrentMeter ≤ 3975.0</text>\n",
       "<text text-anchor=\"start\" x=\"570.71\" y=\"-95.8\" font-family=\"Times,serif\" font-size=\"14.00\">mse = 0.38</text>\n",
       "<text text-anchor=\"start\" x=\"564.69\" y=\"-81.8\" font-family=\"Times,serif\" font-size=\"14.00\">samples = 28</text>\n",
       "<text text-anchor=\"start\" x=\"563.33\" y=\"-67.8\" font-family=\"Times,serif\" font-size=\"14.00\">value = 10.67</text>\n",
       "</g>\n",
       "<!-- 8&#45;&gt;12 -->\n",
       "<g id=\"edge12\" class=\"edge\">\n",
       "<title>8&#45;&gt;12</title>\n",
       "<path fill=\"none\" stroke=\"black\" d=\"M371.33,-178.62C410.36,-164.05 461.34,-145.02 505.33,-128.6\"/>\n",
       "<polygon fill=\"black\" stroke=\"black\" points=\"506.74,-131.8 514.89,-125.03 504.3,-125.25 506.74,-131.8\"/>\n",
       "</g>\n",
       "<!-- 10 -->\n",
       "<g id=\"node11\" class=\"node\">\n",
       "<title>10</title>\n",
       "<polygon fill=\"#f3c5a4\" stroke=\"black\" points=\"871.19,-254 774.19,-254 774.19,-204 871.19,-204 871.19,-254\"/>\n",
       "<text text-anchor=\"start\" x=\"791.71\" y=\"-238.8\" font-family=\"Times,serif\" font-size=\"14.00\">mse = 0.43</text>\n",
       "<text text-anchor=\"start\" x=\"782.19\" y=\"-224.8\" font-family=\"Times,serif\" font-size=\"14.00\">samples = 346</text>\n",
       "<text text-anchor=\"start\" x=\"784.33\" y=\"-210.8\" font-family=\"Times,serif\" font-size=\"14.00\">value = 10.05</text>\n",
       "</g>\n",
       "<!-- 9&#45;&gt;10 -->\n",
       "<g id=\"edge10\" class=\"edge\">\n",
       "<title>9&#45;&gt;10</title>\n",
       "<path fill=\"none\" stroke=\"black\" d=\"M665.15,-209.7C696.27,-213.54 733.66,-218.15 764.08,-221.9\"/>\n",
       "<polygon fill=\"black\" stroke=\"black\" points=\"763.76,-225.39 774.12,-223.14 764.62,-218.44 763.76,-225.39\"/>\n",
       "</g>\n",
       "<!-- 11 -->\n",
       "<g id=\"node12\" class=\"node\">\n",
       "<title>11</title>\n",
       "<polygon fill=\"#f1bd97\" stroke=\"black\" points=\"871.19,-186 774.19,-186 774.19,-136 871.19,-136 871.19,-186\"/>\n",
       "<text text-anchor=\"start\" x=\"791.71\" y=\"-170.8\" font-family=\"Times,serif\" font-size=\"14.00\">mse = 0.48</text>\n",
       "<text text-anchor=\"start\" x=\"782.19\" y=\"-156.8\" font-family=\"Times,serif\" font-size=\"14.00\">samples = 467</text>\n",
       "<text text-anchor=\"start\" x=\"784.33\" y=\"-142.8\" font-family=\"Times,serif\" font-size=\"14.00\">value = 10.21</text>\n",
       "</g>\n",
       "<!-- 9&#45;&gt;11 -->\n",
       "<g id=\"edge11\" class=\"edge\">\n",
       "<title>9&#45;&gt;11</title>\n",
       "<path fill=\"none\" stroke=\"black\" d=\"M665.15,-190.31C696.27,-184.48 733.66,-177.48 764.08,-171.78\"/>\n",
       "<polygon fill=\"black\" stroke=\"black\" points=\"764.93,-175.19 774.12,-169.91 763.64,-168.31 764.93,-175.19\"/>\n",
       "</g>\n",
       "<!-- 13 -->\n",
       "<g id=\"node14\" class=\"node\">\n",
       "<title>13</title>\n",
       "<polygon fill=\"#eda877\" stroke=\"black\" points=\"868.9,-118 776.47,-118 776.47,-68 868.9,-68 868.9,-118\"/>\n",
       "<text text-anchor=\"start\" x=\"791.71\" y=\"-102.8\" font-family=\"Times,serif\" font-size=\"14.00\">mse = 0.37</text>\n",
       "<text text-anchor=\"start\" x=\"785.69\" y=\"-88.8\" font-family=\"Times,serif\" font-size=\"14.00\">samples = 26</text>\n",
       "<text text-anchor=\"start\" x=\"784.33\" y=\"-74.8\" font-family=\"Times,serif\" font-size=\"14.00\">value = 10.62</text>\n",
       "</g>\n",
       "<!-- 12&#45;&gt;13 -->\n",
       "<g id=\"edge13\" class=\"edge\">\n",
       "<title>12&#45;&gt;13</title>\n",
       "<path fill=\"none\" stroke=\"black\" d=\"M716.04,-93C733.42,-93 750.67,-93 766.04,-93\"/>\n",
       "<polygon fill=\"black\" stroke=\"black\" points=\"766.36,-96.5 776.36,-93 766.36,-89.5 766.36,-96.5\"/>\n",
       "</g>\n",
       "<!-- 14 -->\n",
       "<g id=\"node15\" class=\"node\">\n",
       "<title>14</title>\n",
       "<polygon fill=\"#e58139\" stroke=\"black\" points=\"868.89,-50 776.49,-50 776.49,0 868.89,0 868.89,-50\"/>\n",
       "<text text-anchor=\"start\" x=\"795.21\" y=\"-34.8\" font-family=\"Times,serif\" font-size=\"14.00\">mse = 0.0</text>\n",
       "<text text-anchor=\"start\" x=\"789.19\" y=\"-20.8\" font-family=\"Times,serif\" font-size=\"14.00\">samples = 2</text>\n",
       "<text text-anchor=\"start\" x=\"784.59\" y=\"-6.8\" font-family=\"Times,serif\" font-size=\"14.00\">value = 11.38</text>\n",
       "</g>\n",
       "<!-- 12&#45;&gt;14 -->\n",
       "<g id=\"edge14\" class=\"edge\">\n",
       "<title>12&#45;&gt;14</title>\n",
       "<path fill=\"none\" stroke=\"black\" d=\"M705.77,-60.99C726.84,-54.45 748.22,-47.81 766.79,-42.05\"/>\n",
       "<polygon fill=\"black\" stroke=\"black\" points=\"768,-45.34 776.51,-39.03 765.92,-38.65 768,-45.34\"/>\n",
       "</g>\n",
       "</g>\n",
       "</svg>\n"
      ],
      "text/plain": [
       "<graphviz.files.Source at 0x14aa21f28>"
      ]
     },
     "metadata": {},
     "output_type": "display_data"
    }
   ],
   "source": [
    "m = RandomForestRegressor(n_estimators=1, max_depth=3, bootstrap=False)\n",
    "m.fit(x_samp, y_samp)\n",
    "draw_tree(m.estimators_[0], x_samp, precision=2)"
   ]
  },
  {
   "cell_type": "code",
   "execution_count": 142,
   "metadata": {},
   "outputs": [],
   "source": [
    "def predict(self,x): return np.array([self.predict_row(xi) for xi in x])\n",
    "DecisionTree.predict = predict"
   ]
  },
  {
   "cell_type": "code",
   "execution_count": 143,
   "metadata": {},
   "outputs": [],
   "source": [
    "def predict_row(self, xi):\n",
    "    if self.is_leaf: return self.val\n",
    "    t = self.lhs if xi[self.var_idx]<=self.split else self.rhs\n",
    "    return t.predict_row(xi)\n",
    "\n",
    "DecisionTree.predict_row = predict_row"
   ]
  },
  {
   "cell_type": "code",
   "execution_count": 144,
   "metadata": {},
   "outputs": [
    {
     "ename": "NameError",
     "evalue": "name 'cols' is not defined",
     "output_type": "error",
     "traceback": [
      "\u001b[0;31m---------------------------------------------------------------------------\u001b[0m",
      "\u001b[0;31mNameError\u001b[0m                                 Traceback (most recent call last)",
      "\u001b[0;32m<timed exec>\u001b[0m in \u001b[0;36m<module>\u001b[0;34m\u001b[0m\n",
      "\u001b[0;31mNameError\u001b[0m: name 'cols' is not defined"
     ]
    }
   ],
   "source": [
    "%time preds = tree.predict(X_valid[cols].values)"
   ]
  },
  {
   "cell_type": "code",
   "execution_count": null,
   "metadata": {},
   "outputs": [],
   "source": []
  },
  {
   "cell_type": "code",
   "execution_count": null,
   "metadata": {},
   "outputs": [],
   "source": []
  },
  {
   "cell_type": "markdown",
   "metadata": {},
   "source": [
    "### Quick primer on np.random.permutation\n"
   ]
  },
  {
   "cell_type": "code",
   "execution_count": 8,
   "metadata": {},
   "outputs": [
    {
     "data": {
      "text/plain": [
       "\u001b[0;31mDocstring:\u001b[0m\n",
       "permutation(x)\n",
       "\n",
       "Randomly permute a sequence, or return a permuted range.\n",
       "\n",
       "If `x` is a multi-dimensional array, it is only shuffled along its\n",
       "first index.\n",
       "\n",
       ".. note::\n",
       "    New code should use the ``permutation`` method of a ``default_rng()``\n",
       "    instance instead; see `random-quick-start`.\n",
       "\n",
       "Parameters\n",
       "----------\n",
       "x : int or array_like\n",
       "    If `x` is an integer, randomly permute ``np.arange(x)``.\n",
       "    If `x` is an array, make a copy and shuffle the elements\n",
       "    randomly.\n",
       "\n",
       "Returns\n",
       "-------\n",
       "out : ndarray\n",
       "    Permuted sequence or array range.\n",
       "\n",
       "See Also\n",
       "--------\n",
       "Generator.permutation: which should be used for new code.\n",
       "\n",
       "Examples\n",
       "--------\n",
       ">>> np.random.permutation(10)\n",
       "array([1, 7, 4, 3, 0, 9, 2, 5, 8, 6]) # random\n",
       "\n",
       ">>> np.random.permutation([1, 4, 9, 12, 15])\n",
       "array([15,  1,  9,  4, 12]) # random\n",
       "\n",
       ">>> arr = np.arange(9).reshape((3, 3))\n",
       ">>> np.random.permutation(arr)\n",
       "array([[6, 7, 8], # random\n",
       "       [0, 1, 2],\n",
       "       [3, 4, 5]])\n",
       "\u001b[0;31mType:\u001b[0m      builtin_function_or_method\n"
      ]
     },
     "metadata": {},
     "output_type": "display_data"
    }
   ],
   "source": [
    "?np.random.permutation"
   ]
  },
  {
   "cell_type": "code",
   "execution_count": 9,
   "metadata": {},
   "outputs": [
    {
     "data": {
      "text/plain": [
       "array([1, 3, 4])"
      ]
     },
     "execution_count": 9,
     "metadata": {},
     "output_type": "execute_result"
    }
   ],
   "source": [
    "a = [1,2,3,4,5]\n",
    "sample_sz = 3\n",
    "np.random.permutation(len(a))[:sample_sz]"
   ]
  },
  {
   "cell_type": "code",
   "execution_count": 15,
   "metadata": {},
   "outputs": [],
   "source": [
    "b = np.array([3])"
   ]
  },
  {
   "cell_type": "code",
   "execution_count": 11,
   "metadata": {},
   "outputs": [
    {
     "data": {
      "text/plain": [
       "array([0, 1, 2])"
      ]
     },
     "execution_count": 11,
     "metadata": {},
     "output_type": "execute_result"
    }
   ],
   "source": [
    "np.array(range(3))"
   ]
  },
  {
   "cell_type": "code",
   "execution_count": 17,
   "metadata": {},
   "outputs": [
    {
     "data": {
      "text/plain": [
       "(1,)"
      ]
     },
     "execution_count": 17,
     "metadata": {},
     "output_type": "execute_result"
    }
   ],
   "source": [
    "b.shape"
   ]
  },
  {
   "cell_type": "markdown",
   "metadata": {},
   "source": [
    "### More thoughts on Extrapolation"
   ]
  },
  {
   "cell_type": "code",
   "execution_count": 42,
   "metadata": {},
   "outputs": [
    {
     "data": {
      "text/plain": [
       "(50,)"
      ]
     },
     "execution_count": 42,
     "metadata": {},
     "output_type": "execute_result"
    }
   ],
   "source": [
    "x = np.linspace(0,1)\n",
    "y = x + np.random.uniform(-0.2,0.2,x.shape)\n",
    "x.shape # tuple with 1 thing in it"
   ]
  },
  {
   "cell_type": "code",
   "execution_count": 47,
   "metadata": {},
   "outputs": [
    {
     "data": {
      "text/plain": [
       "1"
      ]
     },
     "execution_count": 47,
     "metadata": {},
     "output_type": "execute_result"
    }
   ],
   "source": [
    "# rank of a variable is equal to the length of its shape\n",
    "len(x.shape)"
   ]
  },
  {
   "cell_type": "code",
   "execution_count": 43,
   "metadata": {},
   "outputs": [
    {
     "data": {
      "text/plain": [
       "<matplotlib.collections.PathCollection at 0x14aa4e128>"
      ]
     },
     "execution_count": 43,
     "metadata": {},
     "output_type": "execute_result"
    },
    {
     "data": {
      "image/png": "[encoded data removed]",
      "text/plain": [
       "<Figure size 432x288 with 1 Axes>"
      ]
     },
     "metadata": {
      "needs_background": "light"
     },
     "output_type": "display_data"
    }
   ],
   "source": [
    "plt.scatter(x,y)"
   ]
  },
  {
   "cell_type": "code",
   "execution_count": 46,
   "metadata": {},
   "outputs": [],
   "source": [
    "x_trn, x_val = x[:40],x[40:]\n",
    "y_trn, y_val = y[:40],y[40:]"
   ]
  },
  {
   "cell_type": "markdown",
   "metadata": {},
   "source": [
    "**None is a special indexer to add rank**"
   ]
  },
  {
   "cell_type": "code",
   "execution_count": 48,
   "metadata": {},
   "outputs": [
    {
     "data": {
      "text/plain": [
       "(1, 50)"
      ]
     },
     "execution_count": 48,
     "metadata": {},
     "output_type": "execute_result"
    }
   ],
   "source": [
    "x[None,:].shape"
   ]
  },
  {
   "cell_type": "code",
   "execution_count": 50,
   "metadata": {},
   "outputs": [
    {
     "data": {
      "text/plain": [
       "(50, 1)"
      ]
     },
     "execution_count": 50,
     "metadata": {},
     "output_type": "execute_result"
    }
   ],
   "source": [
    "x[:,None].shape"
   ]
  },
  {
   "cell_type": "code",
   "execution_count": 59,
   "metadata": {},
   "outputs": [
    {
     "data": {
      "text/plain": [
       "(50, 1)"
      ]
     },
     "execution_count": 59,
     "metadata": {},
     "output_type": "execute_result"
    }
   ],
   "source": [
    "x1 = x[...,None]\n",
    "x1.shape"
   ]
  },
  {
   "cell_type": "code",
   "execution_count": 60,
   "metadata": {},
   "outputs": [],
   "source": [
    "x_trn, x_val = x1[:40],x1[40:]\n",
    "y_trn, y_val = y[:40],y[40:]"
   ]
  },
  {
   "cell_type": "code",
   "execution_count": 62,
   "metadata": {},
   "outputs": [
    {
     "name": "stderr",
     "output_type": "stream",
     "text": [
      "/Users/JI/miniconda2/envs/fastai_ml/lib/python3.6/site-packages/sklearn/ensemble/forest.py:245: FutureWarning: The default value of n_estimators will change from 10 in version 0.20 to 100 in 0.22.\n",
      "  \"10 in version 0.20 to 100 in 0.22.\", FutureWarning)\n"
     ]
    }
   ],
   "source": [
    "m = RandomForestRegressor().fit(x_trn,y_trn)"
   ]
  },
  {
   "cell_type": "code",
   "execution_count": 64,
   "metadata": {},
   "outputs": [
    {
     "data": {
      "text/plain": [
       "<matplotlib.collections.PathCollection at 0x14b2642e8>"
      ]
     },
     "execution_count": 64,
     "metadata": {},
     "output_type": "execute_result"
    },
    {
     "data": {
      "image/png": "[encoded data removed]",
      "text/plain": [
       "<Figure size 432x288 with 1 Axes>"
      ]
     },
     "metadata": {
      "needs_background": "light"
     },
     "output_type": "display_data"
    }
   ],
   "source": [
    "plt.scatter(y_trn, m.predict(x_trn))"
   ]
  },
  {
   "cell_type": "code",
   "execution_count": 65,
   "metadata": {},
   "outputs": [
    {
     "data": {
      "text/plain": [
       "<matplotlib.collections.PathCollection at 0x14aea7630>"
      ]
     },
     "execution_count": 65,
     "metadata": {},
     "output_type": "execute_result"
    },
    {
     "data": {
      "image/png": "[encoded data removed]",
      "text/plain": [
       "<Figure size 432x288 with 1 Axes>"
      ]
     },
     "metadata": {
      "needs_background": "light"
     },
     "output_type": "display_data"
    }
   ],
   "source": [
    "plt.scatter(y_val,m.predict(x_val))"
   ]
  },
  {
   "cell_type": "markdown",
   "metadata": {},
   "source": [
    "#### The validation set doesn't predict a line!"
   ]
  },
  {
   "cell_type": "markdown",
   "metadata": {},
   "source": [
    "- RF is just averaging data it's already seen"
   ]
  },
  {
   "cell_type": "markdown",
   "metadata": {},
   "source": [
    "- previously we avoided time dependent variables"
   ]
  },
  {
   "cell_type": "markdown",
   "metadata": {},
   "source": [
    "- solutions: \n",
    "    - **use a neural net that can approx a function**\n",
    "    - use a time series model, de-trend it, then use a RF on that\n",
    "    - gradiant boosting machine\n",
    "        - still can't extrapolate to the future, but deal with time dependent variables better"
   ]
  },
  {
   "cell_type": "markdown",
   "metadata": {},
   "source": [
    "## Computational Complexity"
   ]
  },
  {
   "cell_type": "markdown",
   "metadata": {},
   "source": [
    "Steps:\n",
    "- is there a loop? (n)\n",
    "- is there loop inside loop? \n",
    "    - if yes multiple by n\n",
    "    - if no, is there a sort(nlogn)"
   ]
  },
  {
   "cell_type": "markdown",
   "metadata": {},
   "source": []
  },
  {
   "cell_type": "markdown",
   "metadata": {},
   "source": []
  },
  {
   "cell_type": "markdown",
   "metadata": {},
   "source": [
    "\n"
   ]
  }
 ],
 "metadata": {
  "kernelspec": {
   "display_name": "Python 3",
   "language": "python",
   "name": "python3"
  },
  "language_info": {
   "codemirror_mode": {
    "name": "ipython",
    "version": 3
   },
   "file_extension": ".py",
   "mimetype": "text/x-python",
   "name": "python",
   "nbconvert_exporter": "python",
   "pygments_lexer": "ipython3",
   "version": "3.6.8"
  }
 },
 "nbformat": 4,
 "nbformat_minor": 4
}
